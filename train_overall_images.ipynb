{
  "nbformat": 4,
  "nbformat_minor": 0,
  "metadata": {
    "colab": {
      "name": "train_overall_images.ipynb",
      "version": "0.3.2",
      "provenance": [],
      "collapsed_sections": []
    },
    "kernelspec": {
      "name": "python3",
      "display_name": "Python 3"
    },
    "accelerator": "GPU"
  },
  "cells": [
    {
      "cell_type": "code",
      "metadata": {
        "id": "QwOnrka_gcIg",
        "colab_type": "code",
        "outputId": "c82735d0-143a-4d43-d330-b92fbe2147b0",
        "colab": {
          "base_uri": "https://localhost:8080/",
          "height": 122
        }
      },
      "source": [
        "from google.colab import drive\n",
        "drive.mount('/content/drive' , force_remount=True)"
      ],
      "execution_count": 0,
      "outputs": [
        {
          "output_type": "stream",
          "text": [
            "Go to this URL in a browser: https://accounts.google.com/o/oauth2/auth?client_id=947318989803-6bn6qk8qdgf4n4g3pfee6491hc0brc4i.apps.googleusercontent.com&redirect_uri=urn%3Aietf%3Awg%3Aoauth%3A2.0%3Aoob&scope=email%20https%3A%2F%2Fwww.googleapis.com%2Fauth%2Fdocs.test%20https%3A%2F%2Fwww.googleapis.com%2Fauth%2Fdrive%20https%3A%2F%2Fwww.googleapis.com%2Fauth%2Fdrive.photos.readonly%20https%3A%2F%2Fwww.googleapis.com%2Fauth%2Fpeopleapi.readonly&response_type=code\n",
            "\n",
            "Enter your authorization code:\n",
            "··········\n",
            "Mounted at /content/drive\n"
          ],
          "name": "stdout"
        }
      ]
    },
    {
      "cell_type": "code",
      "metadata": {
        "id": "EXW0ZGc6grMf",
        "colab_type": "code",
        "outputId": "2d481ea9-021e-4f63-f9a3-4e10b1e37f16",
        "colab": {
          "base_uri": "https://localhost:8080/",
          "height": 306
        }
      },
      "source": [
        "ROOT_FOLDER = \"/content/drive/My Drive/Jorey\"\n",
        "#ROOT_FOLDER = \"/content/drive/My Drive/TheOneAI/Jorey\"\n",
        "\n",
        "!ls \"/content/drive/My Drive/Jorey\"\n",
        "#!ls \"/content/drive/My Drive/TheOneAI/Jorey\""
      ],
      "execution_count": 0,
      "outputs": [
        {
          "output_type": "stream",
          "text": [
            "BDD_AI_with_FORME_TYPIQUE_complete.csv\n",
            "final_data_frame.csv\n",
            "final_data_frame.xlsx\n",
            "final_file_03.csv\n",
            "imagens6\n",
            "Load_sheet.ipynb\n",
            "models\n",
            "new_images_04_11\n",
            "original_final_file_csv.csv\n",
            "pretrained_predict_collor.ipynb\n",
            "pretrained_predict_collor.pth\n",
            "pretrained_predict_type.ipynb\n",
            "pretrained_predict_type.pth\n",
            "similaraty_of_cosine.ipynb\n",
            "train_original_images_folder_imagens_6.ipynb\n",
            "train_overall_images.ipynb\n",
            "vectorized_images.json\n"
          ],
          "name": "stdout"
        }
      ]
    },
    {
      "cell_type": "code",
      "metadata": {
        "id": "e5HOTb_qo4Xy",
        "colab_type": "code",
        "colab": {}
      },
      "source": [
        "##########################\n",
        "# SOME IMPORT STATEMENTS #\n",
        "##########################\n",
        "import matplotlib\n",
        "%matplotlib inline\n",
        "import matplotlib.pyplot as plt\n",
        "import random\n",
        "import cv2\n",
        "import numpy as np"
      ],
      "execution_count": 0,
      "outputs": []
    },
    {
      "cell_type": "code",
      "metadata": {
        "id": "h8IotqJ2mJ76",
        "colab_type": "code",
        "outputId": "f1f59370-e729-4af2-fa03-d39ead147a2e",
        "colab": {
          "base_uri": "https://localhost:8080/",
          "height": 51
        }
      },
      "source": [
        "######################\n",
        "# INSTALLING PYTORCH #\n",
        "######################\n",
        "import sys\n",
        "from os.path import exists\n",
        "from wheel.pep425tags import get_abbr_impl, get_impl_ver, get_abi_tag\n",
        "platform = '{}{}-{}'.format(get_abbr_impl(), get_impl_ver(), get_abi_tag())\n",
        "cuda_output = !ldconfig -p|grep cudart.so|sed -e 's/.*\\.\\([0-9]*\\)\\.\\([0-9]*\\)$/cu\\1\\2/'\n",
        "accelerator = cuda_output[0] if exists('/dev/nvidia0') else 'cpu'\n",
        "\n",
        "#print('accelerator:', accelerator)\n",
        "#print('python version:', sys.version)\n",
        "\n",
        "#!pip install -q http://download.pytorch.org/whl/{accelerator}/torch-0.4.1-{platform}-linux_x86_64.whl torchvision\n",
        "!pip install -q http://download.pytorch.org/whl/{accelerator}/torch-1.0.0-{platform}-linux_x86_64.whl torchvision\n",
        "#!pip3 install torch torchvision\n",
        "\n",
        "from __future__ import print_function, division\n",
        "import os\n",
        "import json\n",
        "import time\n",
        "\n",
        "import torch\n",
        "import torchvision\n",
        "from torchvision import datasets, transforms, models\n",
        "from torch.utils.data import Dataset, DataLoader\n",
        "\n",
        "import pandas as pd\n",
        "from skimage import io, transform\n",
        "\n",
        "\n",
        "print('installed torch version:', torch.__version__)"
      ],
      "execution_count": 0,
      "outputs": [
        {
          "output_type": "stream",
          "text": [
            "\u001b[K     |████████████████████████████████| 753.6MB 73.8MB/s \n",
            "\u001b[?25hinstalled torch version: 1.0.0\n"
          ],
          "name": "stdout"
        }
      ]
    },
    {
      "cell_type": "code",
      "metadata": {
        "id": "uxuRFSJVhGSa",
        "colab_type": "code",
        "outputId": "47eb27a9-967a-456a-babe-56f94a0bba83",
        "colab": {
          "base_uri": "https://localhost:8080/",
          "height": 309
        }
      },
      "source": [
        "!pip install pillow==4.1.1\n",
        "%reload_ext autoreload\n",
        "%autoreload\n",
        "from PIL import Image\n",
        "\n",
        "\n",
        "def rgba_to_rgb(image, color=(255, 255, 255)):\n",
        "    \"\"\"Set all fully transparent pixels of an RGBA image to the specified color.\n",
        "    This is a very simple solution that might leave over some ugly edges, due\n",
        "    to semi-transparent areas. You should use alpha_composite_with color instead.\n",
        "\n",
        "    Source: http://stackoverflow.com/a/9166671/284318\n",
        "\n",
        "    Keyword Arguments:\n",
        "    image -- PIL RGBA Image object\n",
        "    color -- Tuple r, g, b (default 255, 255, 255)\n",
        "\n",
        "    \"\"\"\n",
        "    x = np.array(image)\n",
        "    r, g, b, a = np.rollaxis(x, axis=-1)\n",
        "    r[a == 0] = color[0]\n",
        "    g[a == 0] = color[1]\n",
        "    b[a == 0] = color[2] \n",
        "    x = np.dstack([r, g, b])\n",
        "    if isinstance(image, np.ndarray):\n",
        "      return x\n",
        "    elif isinstance(image, Image.Image):\n",
        "      return Image.fromarray(x, 'RGB')\n",
        "    else:\n",
        "      print(\"ERROR: unknown image type:\", type(image))\n",
        "      return None\n",
        "\n",
        "\n",
        "def arr_to_pil(arr):\n",
        "  \"\"\"\n",
        "  Convert numpy array to PIL image with default mode (either B&W, or RGB, or RGBA)\n",
        "  \"\"\"\n",
        "  return Image.fromarray(arr)\n",
        "\n",
        "\n",
        "def pil_to_arr(pil):\n",
        "  \"\"\"\n",
        "  Convert PIL image to numpy array\n",
        "  \"\"\"\n",
        "  return np.array(pil)\n",
        "\n",
        "\n",
        "def normalize(image, verbose=True):\n",
        "  \"\"\"\n",
        "  Convert 4 channel images (RGBA) to 3 channels (RGB)\n",
        "  Convert 0 channel images (B&W) to 3 channels (RGB)\n",
        "  \"\"\"\n",
        "  # make sure we have a numpy array as image\n",
        "  image = np.array(image)\n",
        "  \n",
        "  if len(image.shape) > 2 and image.shape[2] == 4:\n",
        "    if verbose: print(\"converting RGBA to RGB image\")\n",
        "    image = rgba_to_rgb(image)\n",
        "\n",
        "  elif len(image.shape) == 2:\n",
        "    if verbose: print(\"converting black & white image to RGB image\")\n",
        "    image = arr_to_pil(image)\n",
        "    image = image.convert('RGB')\n",
        "    image = pil_to_arr(image)\n",
        "  return image"
      ],
      "execution_count": 0,
      "outputs": [
        {
          "output_type": "stream",
          "text": [
            "Collecting pillow==4.1.1\n",
            "\u001b[?25l  Downloading https://files.pythonhosted.org/packages/36/e5/88b3d60924a3f8476fa74ec086f5fbaba56dd6cee0d82845f883b6b6dd18/Pillow-4.1.1-cp36-cp36m-manylinux1_x86_64.whl (5.7MB)\n",
            "\u001b[K     |████████████████████████████████| 5.7MB 3.3MB/s \n",
            "\u001b[?25hRequirement already satisfied: olefile in /usr/local/lib/python3.6/dist-packages (from pillow==4.1.1) (0.46)\n",
            "\u001b[31mERROR: scikit-image 0.14.2 has requirement pillow>=4.3.0, but you'll have pillow 4.1.1 which is incompatible.\u001b[0m\n",
            "\u001b[31mERROR: albumentations 0.1.12 has requirement imgaug<0.2.7,>=0.2.5, but you'll have imgaug 0.2.8 which is incompatible.\u001b[0m\n",
            "Installing collected packages: pillow\n",
            "  Found existing installation: Pillow 4.3.0\n",
            "    Uninstalling Pillow-4.3.0:\n",
            "      Successfully uninstalled Pillow-4.3.0\n",
            "Successfully installed pillow-4.1.1\n"
          ],
          "name": "stdout"
        },
        {
          "output_type": "display_data",
          "data": {
            "application/vnd.colab-display-data+json": {
              "pip_warning": {
                "packages": [
                  "PIL"
                ]
              }
            }
          },
          "metadata": {
            "tags": []
          }
        }
      ]
    },
    {
      "cell_type": "code",
      "metadata": {
        "id": "XiSAByo0Lyv8",
        "colab_type": "code",
        "outputId": "ccb8e806-3137-4755-f48e-f5a63a0464b7",
        "colab": {
          "base_uri": "https://localhost:8080/",
          "height": 337
        }
      },
      "source": [
        "# Read in the image\n",
        "# - #437 is RGBA\n",
        "# - #438 is black and white :/\n",
        "# - #439 is RGB\n",
        "\n",
        "try:\n",
        "  image = matplotlib.image.imread(ROOT_FOLDER + '/new_images_04_11/1014.jpg')\n",
        "except ValueError:\n",
        "  image = matplotlib.image.imread(ROOT_FOLDER + '/new_images_04_11/1014.png')\n",
        "\n",
        "'''\n",
        ".PNG - passed test @12:28 16/04/2019\n",
        "32   76   272  297  336  386\n",
        "488  491  492  528  564  589  592   835\n",
        "836  865  866  881  882  892  2798\n",
        "\n",
        ".PNG - failed test @12:28 16/04/2019\n",
        "2809\n",
        "|_ ok with .JPG\n",
        "'''\n",
        "\n",
        "#print(image)\n",
        "print('original type:', type(image))\n",
        "print('original shape:', np.array(image).shape)\n",
        "print('original image')\n",
        "plt.imshow(image)"
      ],
      "execution_count": 0,
      "outputs": [
        {
          "output_type": "stream",
          "text": [
            "original type: <class 'numpy.ndarray'>\n",
            "original shape: (400, 300, 3)\n",
            "original image\n"
          ],
          "name": "stdout"
        },
        {
          "output_type": "execute_result",
          "data": {
            "text/plain": [
              "<matplotlib.image.AxesImage at 0x7fc5cef2c438>"
            ]
          },
          "metadata": {
            "tags": []
          },
          "execution_count": 6
        },
        {
          "output_type": "display_data",
          "data": {
            "image/png": "[encoded data removed]",
            "text/plain": [
              "<Figure size 432x288 with 1 Axes>"
            ]
          },
          "metadata": {
            "tags": []
          }
        }
      ]
    },
    {
      "cell_type": "code",
      "metadata": {
        "id": "HJ7MYOM6LfCu",
        "colab_type": "code",
        "outputId": "24843a08-e20a-438c-a842-47fca99546f7",
        "colab": {
          "base_uri": "https://localhost:8080/",
          "height": 1170
        }
      },
      "source": [
        "image = normalize(image)\n",
        "print('new type:', type(image))\n",
        "print('new shape:', np.array(image).shape)\n",
        "print(image)\n",
        "print('new image:')\n",
        "plt.imshow(image)"
      ],
      "execution_count": 0,
      "outputs": [
        {
          "output_type": "stream",
          "text": [
            "new type: <class 'numpy.ndarray'>\n",
            "new shape: (400, 300, 3)\n",
            "[[[255 255 255]\n",
            "  [255 255 255]\n",
            "  [255 255 255]\n",
            "  ...\n",
            "  [255 255 255]\n",
            "  [255 255 255]\n",
            "  [255 255 255]]\n",
            "\n",
            " [[255 255 255]\n",
            "  [255 255 255]\n",
            "  [255 255 255]\n",
            "  ...\n",
            "  [255 255 255]\n",
            "  [255 255 255]\n",
            "  [255 255 255]]\n",
            "\n",
            " [[255 255 255]\n",
            "  [255 255 255]\n",
            "  [255 255 255]\n",
            "  ...\n",
            "  [255 255 255]\n",
            "  [255 255 255]\n",
            "  [255 255 255]]\n",
            "\n",
            " ...\n",
            "\n",
            " [[255 255 255]\n",
            "  [255 255 255]\n",
            "  [255 255 255]\n",
            "  ...\n",
            "  [255 255 255]\n",
            "  [255 255 255]\n",
            "  [255 255 255]]\n",
            "\n",
            " [[255 255 255]\n",
            "  [255 255 255]\n",
            "  [255 255 255]\n",
            "  ...\n",
            "  [255 255 255]\n",
            "  [255 255 255]\n",
            "  [255 255 255]]\n",
            "\n",
            " [[255 255 255]\n",
            "  [255 255 255]\n",
            "  [255 255 255]\n",
            "  ...\n",
            "  [255 255 255]\n",
            "  [255 255 255]\n",
            "  [255 255 255]]]\n",
            "new image:\n"
          ],
          "name": "stdout"
        },
        {
          "output_type": "execute_result",
          "data": {
            "text/plain": [
              "<matplotlib.image.AxesImage at 0x7fc5cc6c60b8>"
            ]
          },
          "metadata": {
            "tags": []
          },
          "execution_count": 7
        },
        {
          "output_type": "display_data",
          "data": {
            "image/png": "[encoded data removed]",
            "text/plain": [
              "<Figure size 432x288 with 1 Axes>"
            ]
          },
          "metadata": {
            "tags": []
          }
        }
      ]
    },
    {
      "cell_type": "markdown",
      "metadata": {
        "id": "VX-8Nv_Hpb9X",
        "colab_type": "text"
      },
      "source": [
        ""
      ]
    },
    {
      "cell_type": "code",
      "metadata": {
        "id": "70HwdvziouUb",
        "colab_type": "code",
        "outputId": "b48954f6-b01c-4ae5-9d1d-8e905f82e3e9",
        "colab": {
          "base_uri": "https://localhost:8080/",
          "height": 221
        }
      },
      "source": [
        "data_frame = pd.read_csv(\n",
        "    ROOT_FOLDER + \"/final_data_frame.csv\",\n",
        "    delimiter = ',',\n",
        "    #delimiter = ';',\n",
        "    encoding='utf-8',\n",
        "    #encoding='latin-1',\n",
        "    error_bad_lines=False,\n",
        "    usecols=[\"id\",\"TYPE\",\"Collor_Metal\",\"TRANCHE_DAGE_SIMPLE\",\"FORME_TYPIQUE_SIMPLE\", \"PORTEE\", \"image_name\"]\n",
        ")\n",
        "\n",
        "data_frame.info()"
      ],
      "execution_count": 0,
      "outputs": [
        {
          "output_type": "stream",
          "text": [
            "<class 'pandas.core.frame.DataFrame'>\n",
            "RangeIndex: 3274 entries, 0 to 3273\n",
            "Data columns (total 7 columns):\n",
            "TYPE                    3274 non-null object\n",
            "Collor_Metal            3274 non-null object\n",
            "TRANCHE_DAGE_SIMPLE     3274 non-null object\n",
            "FORME_TYPIQUE_SIMPLE    3274 non-null object\n",
            "PORTEE                  3274 non-null object\n",
            "id                      3274 non-null int64\n",
            "image_name              3274 non-null object\n",
            "dtypes: int64(1), object(6)\n",
            "memory usage: 179.1+ KB\n"
          ],
          "name": "stdout"
        }
      ]
    },
    {
      "cell_type": "code",
      "metadata": {
        "id": "hcVPva35LfJe",
        "colab_type": "code",
        "outputId": "f5b5b58e-07a1-4124-fda9-b9351e8d9595",
        "colab": {
          "base_uri": "https://localhost:8080/",
          "height": 119
        }
      },
      "source": [
        "print(\"TYPES:\")\n",
        "data_frame['TYPE'].value_counts()\n"
      ],
      "execution_count": 0,
      "outputs": [
        {
          "output_type": "stream",
          "text": [
            "TYPES:\n"
          ],
          "name": "stdout"
        },
        {
          "output_type": "execute_result",
          "data": {
            "text/plain": [
              "Boucles d'oreilles     1110\n",
              "Bracelet                891\n",
              "Bague                   878\n",
              "Collier / Pendentif     395\n",
              "Name: TYPE, dtype: int64"
            ]
          },
          "metadata": {
            "tags": []
          },
          "execution_count": 9
        }
      ]
    },
    {
      "cell_type": "code",
      "metadata": {
        "id": "c3FU8UNgGA76",
        "colab_type": "code",
        "outputId": "3b9dc55b-d850-4ecb-ea1c-f2b23153d46e",
        "colab": {
          "base_uri": "https://localhost:8080/",
          "height": 119
        }
      },
      "source": [
        "print(\"Collor_Metal\")\n",
        "data_frame['Collor_Metal'].value_counts()"
      ],
      "execution_count": 0,
      "outputs": [
        {
          "output_type": "stream",
          "text": [
            "Collor_Metal\n"
          ],
          "name": "stdout"
        },
        {
          "output_type": "execute_result",
          "data": {
            "text/plain": [
              "Gris     1173\n",
              "Jaune    1118\n",
              "Rose      658\n",
              "Autre     325\n",
              "Name: Collor_Metal, dtype: int64"
            ]
          },
          "metadata": {
            "tags": []
          },
          "execution_count": 10
        }
      ]
    },
    {
      "cell_type": "code",
      "metadata": {
        "id": "Pc6iYJz7kqwI",
        "colab_type": "code",
        "outputId": "25009645-c505-45a9-d716-def8a748b62f",
        "colab": {
          "base_uri": "https://localhost:8080/",
          "height": 221
        }
      },
      "source": [
        "\n",
        "print(\"FORME_TYPIQUE_SIMPLE\")\n",
        "data_frame['FORME_TYPIQUE_SIMPLE'].value_counts()"
      ],
      "execution_count": 0,
      "outputs": [
        {
          "output_type": "stream",
          "text": [
            "FORME_TYPIQUE_SIMPLE\n"
          ],
          "name": "stdout"
        },
        {
          "output_type": "execute_result",
          "data": {
            "text/plain": [
              "Autre                       608\n",
              "Bracelet Chaîne             514\n",
              "BO Pendant                  368\n",
              "BO Puces                    352\n",
              "Collier_Pendentif_chaine    305\n",
              "Bague Motif sur jonc        283\n",
              "Bracelet Jonc               247\n",
              "Bague Bandeau               238\n",
              "BO Motif                    208\n",
              "Bague Solitaire             151\n",
              "Name: FORME_TYPIQUE_SIMPLE, dtype: int64"
            ]
          },
          "metadata": {
            "tags": []
          },
          "execution_count": 11
        }
      ]
    },
    {
      "cell_type": "code",
      "metadata": {
        "id": "z4ZuFPnzkyeg",
        "colab_type": "code",
        "outputId": "bc7bfd7d-f5c8-4a1e-82b0-d23d5d992071",
        "colab": {
          "base_uri": "https://localhost:8080/",
          "height": 119
        }
      },
      "source": [
        "print(\"TRANCHE_DAGE_SIMPLE\")\n",
        "data_frame['TRANCHE_DAGE_SIMPLE'].value_counts()"
      ],
      "execution_count": 0,
      "outputs": [
        {
          "output_type": "stream",
          "text": [
            "TRANCHE_DAGE_SIMPLE\n"
          ],
          "name": "stdout"
        },
        {
          "output_type": "execute_result",
          "data": {
            "text/plain": [
              "Indifférent        1858\n",
              "20 à 35             709\n",
              "Moins de 20 ans     534\n",
              "Plus de 35          173\n",
              "Name: TRANCHE_DAGE_SIMPLE, dtype: int64"
            ]
          },
          "metadata": {
            "tags": []
          },
          "execution_count": 12
        }
      ]
    },
    {
      "cell_type": "code",
      "metadata": {
        "id": "jfduTBY_k4hD",
        "colab_type": "code",
        "outputId": "8fd812e7-e8eb-4971-f681-e502fcb13079",
        "colab": {
          "base_uri": "https://localhost:8080/",
          "height": 102
        }
      },
      "source": [
        "\n",
        "print(\"PORTEE\")\n",
        "data_frame['PORTEE'].value_counts()"
      ],
      "execution_count": 0,
      "outputs": [
        {
          "output_type": "stream",
          "text": [
            "PORTEE\n"
          ],
          "name": "stdout"
        },
        {
          "output_type": "execute_result",
          "data": {
            "text/plain": [
              "Tous les jours    2878\n",
              "Soir               211\n",
              "Fiançailles        185\n",
              "Name: PORTEE, dtype: int64"
            ]
          },
          "metadata": {
            "tags": []
          },
          "execution_count": 13
        }
      ]
    },
    {
      "cell_type": "code",
      "metadata": {
        "id": "87Wzi3K1LiLX",
        "colab_type": "code",
        "outputId": "468bcad8-8aee-4bce-9f47-fd6cb76effc2",
        "colab": {
          "base_uri": "https://localhost:8080/",
          "height": 204
        }
      },
      "source": [
        "#####################################\n",
        "# TRANSFORMING THE DATA INTO NUMERS #\n",
        "#####################################\n",
        "\n",
        "data_frame['TYPE']       = data_frame.TYPE.astype(\"category\").cat.codes\n",
        "data_frame['Collor_Metal']    = data_frame.Collor_Metal.astype(\"category\").cat.codes\n",
        "data_frame['FORME_TYPIQUE_SIMPLE']    = data_frame.FORME_TYPIQUE_SIMPLE.astype(\"category\").cat.codes\n",
        "data_frame['TRANCHE_DAGE_SIMPLE']    = data_frame.TRANCHE_DAGE_SIMPLE.astype(\"category\").cat.codes\n",
        "data_frame['PORTEE']    = data_frame.PORTEE.astype(\"category\").cat.codes\n",
        "\n",
        "\n",
        "data_frame.head()\n"
      ],
      "execution_count": 0,
      "outputs": [
        {
          "output_type": "execute_result",
          "data": {
            "text/html": [
              "<div>\n",
              "<style scoped>\n",
              "    .dataframe tbody tr th:only-of-type {\n",
              "        vertical-align: middle;\n",
              "    }\n",
              "\n",
              "    .dataframe tbody tr th {\n",
              "        vertical-align: top;\n",
              "    }\n",
              "\n",
              "    .dataframe thead th {\n",
              "        text-align: right;\n",
              "    }\n",
              "</style>\n",
              "<table border=\"1\" class=\"dataframe\">\n",
              "  <thead>\n",
              "    <tr style=\"text-align: right;\">\n",
              "      <th></th>\n",
              "      <th>TYPE</th>\n",
              "      <th>Collor_Metal</th>\n",
              "      <th>TRANCHE_DAGE_SIMPLE</th>\n",
              "      <th>FORME_TYPIQUE_SIMPLE</th>\n",
              "      <th>PORTEE</th>\n",
              "      <th>id</th>\n",
              "      <th>image_name</th>\n",
              "    </tr>\n",
              "  </thead>\n",
              "  <tbody>\n",
              "    <tr>\n",
              "      <th>0</th>\n",
              "      <td>0</td>\n",
              "      <td>1</td>\n",
              "      <td>0</td>\n",
              "      <td>0</td>\n",
              "      <td>0</td>\n",
              "      <td>1</td>\n",
              "      <td>1.jpg</td>\n",
              "    </tr>\n",
              "    <tr>\n",
              "      <th>1</th>\n",
              "      <td>0</td>\n",
              "      <td>2</td>\n",
              "      <td>0</td>\n",
              "      <td>0</td>\n",
              "      <td>0</td>\n",
              "      <td>2</td>\n",
              "      <td>2.jpg</td>\n",
              "    </tr>\n",
              "    <tr>\n",
              "      <th>2</th>\n",
              "      <td>0</td>\n",
              "      <td>2</td>\n",
              "      <td>0</td>\n",
              "      <td>0</td>\n",
              "      <td>0</td>\n",
              "      <td>3</td>\n",
              "      <td>3.jpg</td>\n",
              "    </tr>\n",
              "    <tr>\n",
              "      <th>3</th>\n",
              "      <td>0</td>\n",
              "      <td>2</td>\n",
              "      <td>0</td>\n",
              "      <td>0</td>\n",
              "      <td>0</td>\n",
              "      <td>4</td>\n",
              "      <td>4.jpg</td>\n",
              "    </tr>\n",
              "    <tr>\n",
              "      <th>4</th>\n",
              "      <td>0</td>\n",
              "      <td>0</td>\n",
              "      <td>1</td>\n",
              "      <td>0</td>\n",
              "      <td>2</td>\n",
              "      <td>5</td>\n",
              "      <td>5.jpg</td>\n",
              "    </tr>\n",
              "  </tbody>\n",
              "</table>\n",
              "</div>"
            ],
            "text/plain": [
              "   TYPE  Collor_Metal  TRANCHE_DAGE_SIMPLE  FORME_TYPIQUE_SIMPLE  PORTEE  id  \\\n",
              "0     0             1                    0                     0       0   1   \n",
              "1     0             2                    0                     0       0   2   \n",
              "2     0             2                    0                     0       0   3   \n",
              "3     0             2                    0                     0       0   4   \n",
              "4     0             0                    1                     0       2   5   \n",
              "\n",
              "  image_name  \n",
              "0      1.jpg  \n",
              "1      2.jpg  \n",
              "2      3.jpg  \n",
              "3      4.jpg  \n",
              "4      5.jpg  "
            ]
          },
          "metadata": {
            "tags": []
          },
          "execution_count": 14
        }
      ]
    },
    {
      "cell_type": "code",
      "metadata": {
        "id": "VAuLuzDHFVDs",
        "colab_type": "code",
        "outputId": "bea9a82e-58e6-4e94-95b7-e40698512d76",
        "colab": {
          "base_uri": "https://localhost:8080/",
          "height": 119
        }
      },
      "source": [
        "print(\"TYPES:\")\n",
        "data_frame['TYPE'].value_counts()"
      ],
      "execution_count": 0,
      "outputs": [
        {
          "output_type": "stream",
          "text": [
            "TYPES:\n"
          ],
          "name": "stdout"
        },
        {
          "output_type": "execute_result",
          "data": {
            "text/plain": [
              "1    1110\n",
              "2     891\n",
              "0     878\n",
              "3     395\n",
              "Name: TYPE, dtype: int64"
            ]
          },
          "metadata": {
            "tags": []
          },
          "execution_count": 15
        }
      ]
    },
    {
      "cell_type": "code",
      "metadata": {
        "id": "0xU0nvbMHBFN",
        "colab_type": "code",
        "outputId": "07685597-51a9-4bbd-9d79-75eb06823680",
        "colab": {
          "base_uri": "https://localhost:8080/",
          "height": 119
        }
      },
      "source": [
        "print(\"Collor_Metal:\")\n",
        "data_frame['Collor_Metal'].value_counts()"
      ],
      "execution_count": 0,
      "outputs": [
        {
          "output_type": "stream",
          "text": [
            "Collor_Metal:\n"
          ],
          "name": "stdout"
        },
        {
          "output_type": "execute_result",
          "data": {
            "text/plain": [
              "1    1173\n",
              "2    1118\n",
              "3     658\n",
              "0     325\n",
              "Name: Collor_Metal, dtype: int64"
            ]
          },
          "metadata": {
            "tags": []
          },
          "execution_count": 16
        }
      ]
    },
    {
      "cell_type": "code",
      "metadata": {
        "id": "6K4CRfDwmZr2",
        "colab_type": "code",
        "outputId": "a935e26e-4168-4f53-ddfe-e60d556fff0b",
        "colab": {
          "base_uri": "https://localhost:8080/",
          "height": 119
        }
      },
      "source": [
        "print(\"TRANCHE_DAGE_SIMPLE:\")\n",
        "data_frame['TRANCHE_DAGE_SIMPLE'].value_counts()"
      ],
      "execution_count": 0,
      "outputs": [
        {
          "output_type": "stream",
          "text": [
            "TRANCHE_DAGE_SIMPLE:\n"
          ],
          "name": "stdout"
        },
        {
          "output_type": "execute_result",
          "data": {
            "text/plain": [
              "1    1858\n",
              "0     709\n",
              "2     534\n",
              "3     173\n",
              "Name: TRANCHE_DAGE_SIMPLE, dtype: int64"
            ]
          },
          "metadata": {
            "tags": []
          },
          "execution_count": 17
        }
      ]
    },
    {
      "cell_type": "code",
      "metadata": {
        "id": "oqGquR1pmgnA",
        "colab_type": "code",
        "outputId": "53bd789c-15a6-4d27-980d-9223a1278a3f",
        "colab": {
          "base_uri": "https://localhost:8080/",
          "height": 221
        }
      },
      "source": [
        "print(\"FORME_TYPIQUE_SIMPLE:\")\n",
        "data_frame['FORME_TYPIQUE_SIMPLE'].value_counts()"
      ],
      "execution_count": 0,
      "outputs": [
        {
          "output_type": "stream",
          "text": [
            "FORME_TYPIQUE_SIMPLE:\n"
          ],
          "name": "stdout"
        },
        {
          "output_type": "execute_result",
          "data": {
            "text/plain": [
              "0    608\n",
              "7    514\n",
              "2    368\n",
              "3    352\n",
              "9    305\n",
              "5    283\n",
              "8    247\n",
              "4    238\n",
              "1    208\n",
              "6    151\n",
              "Name: FORME_TYPIQUE_SIMPLE, dtype: int64"
            ]
          },
          "metadata": {
            "tags": []
          },
          "execution_count": 18
        }
      ]
    },
    {
      "cell_type": "code",
      "metadata": {
        "id": "FjCepReumpyT",
        "colab_type": "code",
        "outputId": "d71b9293-a69f-4d3a-cad6-98e9603396b9",
        "colab": {
          "base_uri": "https://localhost:8080/",
          "height": 102
        }
      },
      "source": [
        "print(\"PORTEE:\")\n",
        "data_frame['PORTEE'].value_counts()"
      ],
      "execution_count": 0,
      "outputs": [
        {
          "output_type": "stream",
          "text": [
            "PORTEE:\n"
          ],
          "name": "stdout"
        },
        {
          "output_type": "execute_result",
          "data": {
            "text/plain": [
              "2    2878\n",
              "1     211\n",
              "0     185\n",
              "Name: PORTEE, dtype: int64"
            ]
          },
          "metadata": {
            "tags": []
          },
          "execution_count": 19
        }
      ]
    },
    {
      "cell_type": "code",
      "metadata": {
        "id": "jm-pJk3olPf0",
        "colab_type": "code",
        "outputId": "f497b3b5-533c-48e8-b9c0-8915ff666857",
        "colab": {
          "base_uri": "https://localhost:8080/",
          "height": 119
        }
      },
      "source": [
        "print(\"TRANCHE_DAGE_SIMPLE\")\n",
        "data_frame['TRANCHE_DAGE_SIMPLE'].value_counts()"
      ],
      "execution_count": 0,
      "outputs": [
        {
          "output_type": "stream",
          "text": [
            "TRANCHE_DAGE_SIMPLE\n"
          ],
          "name": "stdout"
        },
        {
          "output_type": "execute_result",
          "data": {
            "text/plain": [
              "1    1858\n",
              "0     709\n",
              "2     534\n",
              "3     173\n",
              "Name: TRANCHE_DAGE_SIMPLE, dtype: int64"
            ]
          },
          "metadata": {
            "tags": []
          },
          "execution_count": 20
        }
      ]
    },
    {
      "cell_type": "code",
      "metadata": {
        "id": "TQF1WEKW1i0M",
        "colab_type": "code",
        "outputId": "1b7c16f0-01a3-4f5b-be45-5057f1a11a95",
        "colab": {
          "base_uri": "https://localhost:8080/",
          "height": 80
        }
      },
      "source": [
        "data_frame[data_frame['id']==2037]"
      ],
      "execution_count": 0,
      "outputs": [
        {
          "output_type": "execute_result",
          "data": {
            "text/html": [
              "<div>\n",
              "<style scoped>\n",
              "    .dataframe tbody tr th:only-of-type {\n",
              "        vertical-align: middle;\n",
              "    }\n",
              "\n",
              "    .dataframe tbody tr th {\n",
              "        vertical-align: top;\n",
              "    }\n",
              "\n",
              "    .dataframe thead th {\n",
              "        text-align: right;\n",
              "    }\n",
              "</style>\n",
              "<table border=\"1\" class=\"dataframe\">\n",
              "  <thead>\n",
              "    <tr style=\"text-align: right;\">\n",
              "      <th></th>\n",
              "      <th>TYPE</th>\n",
              "      <th>Collor_Metal</th>\n",
              "      <th>TRANCHE_DAGE_SIMPLE</th>\n",
              "      <th>FORME_TYPIQUE_SIMPLE</th>\n",
              "      <th>PORTEE</th>\n",
              "      <th>id</th>\n",
              "      <th>image_name</th>\n",
              "    </tr>\n",
              "  </thead>\n",
              "  <tbody>\n",
              "    <tr>\n",
              "      <th>2016</th>\n",
              "      <td>2</td>\n",
              "      <td>1</td>\n",
              "      <td>1</td>\n",
              "      <td>7</td>\n",
              "      <td>2</td>\n",
              "      <td>2037</td>\n",
              "      <td>2037.jpg</td>\n",
              "    </tr>\n",
              "  </tbody>\n",
              "</table>\n",
              "</div>"
            ],
            "text/plain": [
              "      TYPE  Collor_Metal  TRANCHE_DAGE_SIMPLE  FORME_TYPIQUE_SIMPLE  PORTEE  \\\n",
              "2016     2             1                    1                     7       2   \n",
              "\n",
              "        id image_name  \n",
              "2016  2037   2037.jpg  "
            ]
          },
          "metadata": {
            "tags": []
          },
          "execution_count": 21
        }
      ]
    },
    {
      "cell_type": "code",
      "metadata": {
        "id": "UDZ5QUhszoa_",
        "colab_type": "code",
        "colab": {}
      },
      "source": [
        "#########################\n",
        "# TODO: verify the mapping\n",
        "#########################\n",
        "\n",
        "idx_to_str_type = {\n",
        "    0: 'bague',\n",
        "    1: \"boucle doreille\",\n",
        "    3: 'collier / pendentif',\n",
        "    2: 'bracelet'\n",
        "}\n",
        "\n",
        "\n",
        "idx_to_str_collor_metal = {\n",
        "    1: 'gris',\n",
        "    2: 'jaune',\n",
        "    3: 'rose',\n",
        "    0: 'autre'\n",
        "}\n",
        "\n",
        "\n",
        "\n",
        "\n",
        "\n",
        "idx_to_str_TRANCHE_DAGE_SIMPLE = {\n",
        "    1: 'Indifferent',\n",
        "    2: 'moin_20_ans',\n",
        "    3: 'plus_35',\n",
        "    0: '20_35_ans'\n",
        "}\n",
        "\n",
        "\n",
        "idx_to_str_PORTEE = {\n",
        "    2: 'Tous les jours',\n",
        "    1: 'Soir',\n",
        "    0: 'Fiançailles'\n",
        "}\n",
        "\n",
        "\n",
        "idx_to_str_FORME_TYPIQUE_SIMPLE = {\n",
        "    1: 'BO Motif',\n",
        "    2: 'BO Pendant',\n",
        "    3: 'BO Puces',\n",
        "    4: 'Bague Bandeau',\n",
        "    5: 'Bague Motif sur jonc',\n",
        "    6: 'Bague Solitaire',\n",
        "    7: 'Bracelet Chaine',\n",
        "    8: 'Bracelet Jonc',\n",
        "    9: 'Collier_Pendentif_chaine',\n",
        "    0: 'Autre'  \n",
        "    \n",
        "}\n",
        "\n",
        "# ---------------------------------\n",
        "\n",
        "str_to_idx_type = {\n",
        "    'bague': 0,\n",
        "    \"boucle doreille\": 1,\n",
        "    'collier / pendentif': 3,\n",
        "    'bracelet': 2\n",
        "    \n",
        "}\n",
        "\n",
        "str_to_idx_collor_metal = {\n",
        "    'gris': 1,\n",
        "    'jaune': 2,\n",
        "    'rose': 3,\n",
        "    'autre': 0\n",
        "}\n",
        "\n",
        "str_to_idx_TRANCHE_DAGE_SIMPLE = {\n",
        "    'Indifferent': 1,\n",
        "    '20_30_ans': 0,\n",
        "    'moin_20_ans': 2,\n",
        "    'plus_35': 3\n",
        "}\n",
        "\n",
        "str_to_idx_PORTEE = {\n",
        "    'Fiançailles': 0,\n",
        "    'Soir': 1,\n",
        "    'Tous les jours': 2\n",
        "    \n",
        "}\n",
        "\n",
        "\n",
        " \n",
        "\n",
        "str_to_idx_FORME_TYPIQUE_SIMPLE = {\n",
        "    'Bague Motif sur jonc': 5,\n",
        "    'BO Pendant': 2,\n",
        "    'Bague Solitaire': 6,\n",
        "    'BO Puces': 3,\n",
        "    'BO Motif': 1,\n",
        "    'Collier_Pendentif_chaine': 9,\n",
        "    'Bague Bandeau': 4,\n",
        "    'Bracelet Chaîne': 7,\n",
        "    'Bracelet Jonc': 8,\n",
        "    'Autre':0\n",
        "    \n",
        "}\n"
      ],
      "execution_count": 0,
      "outputs": []
    },
    {
      "cell_type": "code",
      "metadata": {
        "id": "nHm3KgkcQ39h",
        "colab_type": "code",
        "outputId": "94948f4f-9392-4a99-842a-4ddef2adaf19",
        "colab": {
          "base_uri": "https://localhost:8080/",
          "height": 34
        }
      },
      "source": [
        "img_name = data_frame.iloc[line, -1]\n",
        "img_name"
      ],
      "execution_count": 0,
      "outputs": [
        {
          "output_type": "execute_result",
          "data": {
            "text/plain": [
              "'2057.jpg'"
            ]
          },
          "metadata": {
            "tags": []
          },
          "execution_count": 25
        }
      ]
    },
    {
      "cell_type": "code",
      "metadata": {
        "id": "1Z2MTx3fLnb8",
        "colab_type": "code",
        "outputId": "07cea595-2bf2-4a8b-9e39-5d2e8c02e5a6",
        "colab": {
          "base_uri": "https://localhost:8080/",
          "height": 136
        }
      },
      "source": [
        "line = 2036\n",
        "\n",
        "# TODO: make sure that the order of the dataframe is the same\n",
        "#id\tTYPE\tCollor_Metal\tTRANCHE_DAGE_SIMPLE\tFORME_TYPIQUE_SIMPLE\tPORTEE\timage_name\n",
        "\n",
        "img_name = data_frame.iloc[line, -1]\n",
        "img_type = data_frame.iloc[line, 1]\n",
        "img_metal_color = data_frame.iloc[line, 2]\n",
        "TRANCHE_DAGE_SIMPLE = data_frame.iloc[line, 3]\n",
        "FORME_TYPIQUE_SIMPLE = data_frame.iloc[line, 4]\n",
        "PORTEE = data_frame.iloc[line, 5]\n",
        "\n",
        "\n",
        "print('Image name: {}'.format(img_name))\n",
        "print('Image type: {}'.format(img_type))\n",
        "\n",
        "print('Image type: {}'.format(idx_to_str_type[img_type]))\n",
        "\n",
        "print('Image metal_color: {}'.format(img_metal_color))\n",
        "\n",
        "\n",
        "print('Image metal_color: {}'.format(idx_to_str_collor_metal[img_metal_color]))\n",
        "\n",
        "\n",
        "\n",
        "#print('Image TRANCHE_DAGE_SIMPLE: {}'.format(TRANCHE_DAGE_SIMPLE))\n",
        "#print('Image TRANCHE_DAGE_SIMPLE: {}'.format(idx_to_str_TRANCHE_DAGE_SIMPLE[TRANCHE_DAGE_SIMPLE]))\n",
        "\n",
        "#print('Image PORTEE: {}'.format(PORTEE))\n",
        "#print('Image PORTEE: {}'.format(idx_to_str_PORTEE[PORTEE]))\n",
        "\n",
        "print('Image FORME_TYPIQUE_SIMPLE: {}'.format(FORME_TYPIQUE_SIMPLE))\n",
        "print('Image FORME_TYPIQUE_SIMPLE: {}'.format(idx_to_str_FORME_TYPIQUE_SIMPLE[FORME_TYPIQUE_SIMPLE]))"
      ],
      "execution_count": 0,
      "outputs": [
        {
          "output_type": "stream",
          "text": [
            "Image name: 2057.jpg\n",
            "Image type: 1\n",
            "Image type: boucle doreille\n",
            "Image metal_color: 2\n",
            "Image metal_color: jaune\n",
            "Image FORME_TYPIQUE_SIMPLE: 2\n",
            "Image FORME_TYPIQUE_SIMPLE: BO Pendant\n"
          ],
          "name": "stdout"
        }
      ]
    },
    {
      "cell_type": "code",
      "metadata": {
        "id": "0P8ZjppTLvh3",
        "colab_type": "code",
        "colab": {}
      },
      "source": [
        "class JoreyDataSets(Dataset):\n",
        "\n",
        "    def __init__(self, data_frame, root_dir, transform=None):\n",
        "        \"\"\"\n",
        "        Args:\n",
        "            data_frame (panda data frame)\n",
        "            root_dir (string): Directory with all the images.\n",
        "            transform (callable, optional): Optional transform to be applied\n",
        "                on a sample.\n",
        "        \"\"\"\n",
        "        self.data_frame = data_frame\n",
        "        self.root_dir = root_dir\n",
        "        self.transform = transform\n",
        "\n",
        "    def __len__(self):\n",
        "        return len(self.data_frame)\n",
        "\n",
        "    def __getitem__(self, idx):\n",
        "        img_name = os.path.join(\n",
        "            self.root_dir,\n",
        "            self.data_frame.iloc[idx, -1]  # make sure this is the image name\n",
        "        )\n",
        "\n",
        "        #image = io.imread(img_name)\n",
        "        image = matplotlib.image.imread(img_name,0)\n",
        "        #print(img_name)\n",
        "        # make sure to get 3 channel images\n",
        "        image = normalize(image, verbose=False)\n",
        "        \n",
        "        #labels = self.data_frame.iloc[idx, 0:5].values\n",
        "        labels = self.data_frame.iloc[idx, 0:5].to_numpy()\n",
        "        labels = labels.astype('float32')\n",
        "        \n",
        "        sample = {'image': image, 'labels': labels}\n",
        "\n",
        "        if self.transform is not None:\n",
        "            sample = self.transform(sample)\n",
        "\n",
        "        return sample"
      ],
      "execution_count": 0,
      "outputs": []
    },
    {
      "cell_type": "code",
      "metadata": {
        "id": "QPMKr8xJxMfd",
        "colab_type": "code",
        "outputId": "2b480a08-fb06-400c-e32f-3658df37dd2d",
        "colab": {
          "base_uri": "https://localhost:8080/",
          "height": 119
        }
      },
      "source": [
        "data_frame.iloc[2, 0:5]"
      ],
      "execution_count": 0,
      "outputs": [
        {
          "output_type": "execute_result",
          "data": {
            "text/plain": [
              "TYPE                    0\n",
              "Collor_Metal            2\n",
              "TRANCHE_DAGE_SIMPLE     0\n",
              "FORME_TYPIQUE_SIMPLE    0\n",
              "PORTEE                  0\n",
              "Name: 2, dtype: object"
            ]
          },
          "metadata": {
            "tags": []
          },
          "execution_count": 28
        }
      ]
    },
    {
      "cell_type": "code",
      "metadata": {
        "id": "qRdK1jzqL8np",
        "colab_type": "code",
        "colab": {}
      },
      "source": [
        "class Rescale(object):\n",
        "    \"\"\"Rescale the image in a sample to a given size.\n",
        "    This will also ignore the 4th channel in the 3rd dimention if there is one\n",
        "\n",
        "    Args:\n",
        "        output_size (tuple or int): Desired output size. If tuple, output is\n",
        "            matched to output_size. If int, smaller of image edges is matched\n",
        "            to output_size keeping aspect ratio the same.\n",
        "    \"\"\"\n",
        "\n",
        "    def __init__(self, output_size):\n",
        "        assert isinstance(output_size, (int, tuple))\n",
        "        self.output_size = output_size\n",
        "\n",
        "    def __call__(self, sample):\n",
        "        # print(sample)\n",
        "        image         = sample['image']\n",
        "        labels        = sample['labels']\n",
        "        #onehot_labels = sample['onehot_labels']\n",
        "        \n",
        "        # modifying the height & width\n",
        "        h, w = image.shape[:2]\n",
        "        if isinstance(self.output_size, int):\n",
        "            if h > w:\n",
        "                new_h, new_w = self.output_size * h / w, self.output_size\n",
        "            else:\n",
        "                new_h, new_w = self.output_size, self.output_size * w / h\n",
        "        else:\n",
        "            new_h, new_w = self.output_size\n",
        "\n",
        "        new_h, new_w = int(new_h), int(new_w)\n",
        "        img = transform.resize(image, (new_h, new_w), mode='constant')\n",
        "\n",
        "        return {\n",
        "            'image': img,\n",
        "            'labels': labels#,\n",
        "            #'onehot_labels': onehot_labels\n",
        "        }\n",
        "\n",
        "\n",
        "class ToTensor(object):\n",
        "    \"\"\"Convert ndarrays in sample to Tensors.\"\"\"\n",
        "\n",
        "    def __call__(self, sample):\n",
        "        image         = sample['image']\n",
        "        labels        = sample['labels']\n",
        "        \n",
        "        \n",
        "        #onehot_labels = sample['onehot_labels']\n",
        "\n",
        "        # swap color axis because\n",
        "        # numpy image: H x W x C\n",
        "        # torch image: C X H X W\n",
        "        image = image.transpose((2, 0, 1))\n",
        "        #print(torch.from_numpy(image).float())\n",
        "        \n",
        "        return {\n",
        "            'image': torch.from_numpy(image).float(),\n",
        "            'labels': labels#,\n",
        "            #'onehot_labels': onehot_labels\n",
        "        }"
      ],
      "execution_count": 0,
      "outputs": []
    },
    {
      "cell_type": "code",
      "metadata": {
        "id": "Z7sMUSTRMNYe",
        "colab_type": "code",
        "outputId": "9f0ef76c-a008-4052-b445-28b3e006e482",
        "colab": {
          "base_uri": "https://localhost:8080/",
          "height": 623
        }
      },
      "source": [
        "jorey_dataset = JoreyDataSets(\n",
        "    data_frame = data_frame,\n",
        "    root_dir = ROOT_FOLDER + '/new_images_04_11',\n",
        "    transform=None  # ORIGINAL IMAGES\n",
        ")\n",
        "\n",
        "indices = list(range(len(jorey_dataset)))\n",
        "random.shuffle(indices)\n",
        "\n",
        "to_print = 2\n",
        "\n",
        "\n",
        "for i in indices:\n",
        "  if to_print == 0:\n",
        "    break\n",
        "\n",
        "  print(\"ORIGINAL picture #%d\" % i)\n",
        "  \n",
        "  sample = jorey_dataset[i]\n",
        "  #print(sample)\n",
        "  print('image shape:', sample['image'].shape)\n",
        "  #print('labels:', sample['labels'])\n",
        "  \n",
        "  print('string labels: TYPE = ',\n",
        "        idx_to_str_type[int(sample['labels'][1])],\n",
        "        '& Collor Metal = ',\n",
        "        idx_to_str_collor_metal[int(sample['labels'][2])],\n",
        "        '& TRANCHE_DAGE_SIMPLE = ',\n",
        "        idx_to_str_TRANCHE_DAGE_SIMPLE[int(sample['labels'][3])],\n",
        "        '& FORME_TYPIQUE_SIMPLE = ',\n",
        "        idx_to_str_FORME_TYPIQUE_SIMPLE[int(sample['labels'][4])]\n",
        "  )\n",
        "\n",
        " \n",
        "  plt.figure()\n",
        "  plt.imshow(sample['image'])\n",
        "  plt.show()\n",
        "  \n",
        "  to_print -= 1\n"
      ],
      "execution_count": 0,
      "outputs": [
        {
          "output_type": "stream",
          "text": [
            "ORIGINAL picture #1938\n",
            "image shape: (400, 300, 3)\n",
            "string labels: TYPE =  boucle doreille & Collor Metal =  gris & TRANCHE_DAGE_SIMPLE =  20_35_ans & FORME_TYPIQUE_SIMPLE =  BO Pendant\n"
          ],
          "name": "stdout"
        },
        {
          "output_type": "display_data",
          "data": {
            "image/png": "[encoded data removed]",
            "text/plain": [
              "<Figure size 432x288 with 1 Axes>"
            ]
          },
          "metadata": {
            "tags": []
          }
        },
        {
          "output_type": "stream",
          "text": [
            "ORIGINAL picture #1096\n",
            "image shape: (400, 300, 3)\n",
            "string labels: TYPE =  bracelet & Collor Metal =  gris & TRANCHE_DAGE_SIMPLE =  Indifferent & FORME_TYPIQUE_SIMPLE =  BO Pendant\n"
          ],
          "name": "stdout"
        },
        {
          "output_type": "display_data",
          "data": {
            "image/png": "[encoded data removed]",
            "text/plain": [
              "<Figure size 432x288 with 1 Axes>"
            ]
          },
          "metadata": {
            "tags": []
          }
        }
      ]
    },
    {
      "cell_type": "code",
      "metadata": {
        "id": "PSPnq7zMO2Oy",
        "colab_type": "code",
        "outputId": "704ef190-081e-49ea-a25c-12c2d68348ed",
        "colab": {
          "base_uri": "https://localhost:8080/",
          "height": 677
        }
      },
      "source": [
        "scale = Rescale((256, 256))\n",
        "to_tensor = ToTensor()\n",
        "\n",
        "to_print = 2\n",
        "\n",
        "for i in indices:\n",
        "  if to_print == 0:\n",
        "    break\n",
        "\n",
        "  print(\"SCALED picture #%d\" % i)\n",
        "  sample = jorey_dataset[i]\n",
        "  sample = scale(sample)\n",
        "  # save image to plot\n",
        "  image_to_show = sample['image']\n",
        "  # apply ToTensor() transformation\n",
        "  #sample = to_tensor(sample)\n",
        "\n",
        "  print('image shape:', sample['image'].shape)\n",
        "  #print('labels:', sample['labels'])\n",
        "  #print('onehot_labels:', sample['onehot_labels'])\n",
        "\n",
        "  print('string labels: TYPE = ',\n",
        "        idx_to_str_type[int(sample['labels'][1])],\n",
        "        '& Collor Metal = ',\n",
        "        idx_to_str_collor_metal[int(sample['labels'][2])],\n",
        "        '& TRANCHE_DAGE_SIMPLE = ',\n",
        "        idx_to_str_TRANCHE_DAGE_SIMPLE[int(sample['labels'][3])],\n",
        "        '& FORME_TYPIQUE_SIMPLE = ',\n",
        "        idx_to_str_FORME_TYPIQUE_SIMPLE[int(sample['labels'][4])]\n",
        "  )\n",
        "\n",
        " \n",
        "  plt.figure()\n",
        "  plt.imshow(sample['image'])\n",
        "  plt.show()\n",
        "  \n",
        "  to_print -= 1\n"
      ],
      "execution_count": 0,
      "outputs": [
        {
          "output_type": "stream",
          "text": [
            "SCALED picture #1938\n",
            "image shape: (256, 256, 3)\n",
            "string labels: TYPE =  boucle doreille & Collor Metal =  gris & TRANCHE_DAGE_SIMPLE =  20_35_ans & FORME_TYPIQUE_SIMPLE =  BO Pendant\n"
          ],
          "name": "stdout"
        },
        {
          "output_type": "stream",
          "text": [
            "/usr/local/lib/python3.6/dist-packages/skimage/transform/_warps.py:110: UserWarning: Anti-aliasing will be enabled by default in skimage 0.15 to avoid aliasing artifacts when down-sampling images.\n",
            "  warn(\"Anti-aliasing will be enabled by default in skimage 0.15 to \"\n"
          ],
          "name": "stderr"
        },
        {
          "output_type": "display_data",
          "data": {
            "image/png": "[encoded data removed]",
            "text/plain": [
              "<Figure size 432x288 with 1 Axes>"
            ]
          },
          "metadata": {
            "tags": []
          }
        },
        {
          "output_type": "stream",
          "text": [
            "SCALED picture #1096\n",
            "image shape: (256, 256, 3)\n",
            "string labels: TYPE =  bracelet & Collor Metal =  gris & TRANCHE_DAGE_SIMPLE =  Indifferent & FORME_TYPIQUE_SIMPLE =  BO Pendant\n"
          ],
          "name": "stdout"
        },
        {
          "output_type": "display_data",
          "data": {
            "image/png": "[encoded data removed]",
            "text/plain": [
              "<Figure size 432x288 with 1 Axes>"
            ]
          },
          "metadata": {
            "tags": []
          }
        }
      ]
    },
    {
      "cell_type": "code",
      "metadata": {
        "id": "eH7nXChTHJdI",
        "colab_type": "code",
        "colab": {}
      },
      "source": [
        "#\n",
        "# define utils functions to split data\n",
        "#\n",
        "def split_random(dataset, train_amount=0.8, valid_amount=0.1):\n",
        "    \"\"\"\n",
        "    Split a given dataset into train, valid, test sets\n",
        "    :param dataset: the data to split\n",
        "    \"\"\"\n",
        "    data_size = len(dataset)\n",
        "    data_indices = list(range(data_size))  # [0, 1, 2, ...., 2700]\n",
        "    np.random.shuffle(data_indices)  # random permutation ~ [345, 738, 0, ..., 45]\n",
        "\n",
        "    train_index_stop = int(data_size * train_amount)\n",
        "    valid_index_stop = int(data_size * (train_amount + valid_amount))\n",
        "    test_index_stop  = int(data_size * 1.0)\n",
        "\n",
        "    train_indices = data_indices[0: train_index_stop]\n",
        "    valid_indices = data_indices[train_index_stop: valid_index_stop]\n",
        "    test_indices  = data_indices[valid_index_stop: ]\n",
        "\n",
        "    train_data = torch.utils.data.Subset(dataset, train_indices)\n",
        "    valid_data = torch.utils.data.Subset(dataset, valid_indices)\n",
        "    test_data  = torch.utils.data.Subset(dataset, test_indices)\n",
        "    \n",
        "    return train_data, valid_data, test_data\n",
        "\n",
        "    \n",
        "def split_equal(dataset, category, train_amount=0.8, valid_amount=0.1):\n",
        "    \"\"\"\n",
        "    Split a given dataset into train, valid, test sets\n",
        "    :param dataset: the data to split\n",
        "    :param category: a column from the original dataframe\n",
        "    \"\"\"\n",
        "    # NEW WAY OF DOING IT : HAVE THE SAME NUMBER OF IMAGES FOR EVERY VALUE IN THE SPECIFIED CATEGORY\n",
        "    train_indices = []\n",
        "    valid_indices = []\n",
        "    test_indices = []\n",
        "    \n",
        "    print(\"total data size:\", len(dataset))\n",
        "    \n",
        "    print(\"number of training images should be around \",  int(len(dataset) * train_amount))\n",
        "    print(\"number of validation images should be around \",  int(len(dataset) * valid_amount))\n",
        "    print(\"number of test images should be around \",  int(len(dataset) * (1.0 - train_amount - valid_amount)))\n",
        "    \n",
        "    possible_values = dataset.data_frame[category].value_counts().count()\n",
        "    print(\"number of possible values for category\", category, \"is\", possible_values)\n",
        "    \n",
        "    #max_images_in_train = int( len(dataset) * train_amount )\n",
        "    #max_images_in_valid = int( len(dataset) * valid_amount )\n",
        "    #max_images_in_test =  int( len(dataset) * (1.0 - train_amount - valid_amount) )\n",
        "    #print(\"max images in the train set:\", max_images_in_train)\n",
        "    #print(\"max images in the valid set:\", max_images_in_valid)\n",
        "    #print(\"max images in the testing set:\", max_images_in_test)\n",
        "    \n",
        "    max_images_in_train_per_label = {}\n",
        "    max_images_in_valid_per_label = {}\n",
        "    max_images_in_test_per_label = {}\n",
        "    for label in range(possible_values):\n",
        "        max_images_in_train_per_label[label] = int(dataset.data_frame[category].value_counts()[label] * train_amount)\n",
        "        max_images_in_valid_per_label[label] = int(dataset.data_frame[category].value_counts()[label] * valid_amount)\n",
        "        max_images_in_test_per_label[label] = int(dataset.data_frame[category].value_counts()[label] * (1.0 - train_amount - valid_amount))\n",
        "    \n",
        "    print(\"max images for each category in the train set:\", max_images_in_train_per_label)\n",
        "    print(\"max images for each category in the valid set:\", max_images_in_valid_per_label)\n",
        "    print(\"max images for each category in the testing set:\", max_images_in_test_per_label)\n",
        "    \n",
        "    #train_counter = {}  # map from label to number of images with that label ex: 'rose':12 , 'jaune':13 , etc...\n",
        "    #valid_counter = {}  # map from label to number of images with that label\n",
        "    #test_counter = {}  # map from label to number of images with that label\n",
        "    # initialize the counter to 0 for every label\n",
        "    #for label in range(possible_values):\n",
        "    #    train_counter[label] = 0\n",
        "    #    valid_counter[label] = 0\n",
        "    #    test_counter[label] = 0\n",
        "    #    # print(label)\n",
        "    \n",
        "    for idx, sample in enumerate(dataset):\n",
        "        '''\n",
        "        TYPE                \n",
        "        Collor_Metal        \n",
        "        TRANCHE_DAGE_SIMPLE \n",
        "        FORME_TYPIQUE_SIMPLE\n",
        "        PORTEE              \n",
        "        '''\n",
        "        a_type, a_collor_metal, a_tranche_dage_simple, a_forme_typique_simple,  a_portee = sample['labels']\n",
        "        \n",
        "        # define the label to consider\n",
        "        if category == 'TYPE':\n",
        "          important_label = a_type\n",
        "        elif category == 'Collor_Metal':\n",
        "          important_label = a_collor_metal\n",
        "        elif category == 'TRANCHE_DAGE_SIMPLE':\n",
        "          important_label = a_tranche_dage_simple\n",
        "        elif category == 'FORME_TYPIQUE_SIMPLE':\n",
        "          important_label = a_forme_typique_simple\n",
        "        elif category == 'PORTEE':\n",
        "          important_label = a_portee\n",
        "        else:\n",
        "          print(\"ERROR: unknown category:\", category)\n",
        "          return None, None, None\n",
        "        \n",
        "        # if we are still missing images, then add this one to train set\n",
        "        if max_images_in_train_per_label[important_label] > 0:\n",
        "            train_indices.append(idx)\n",
        "            max_images_in_train_per_label[important_label] -= 1\n",
        "        elif max_images_in_valid_per_label[important_label] > 0:\n",
        "            valid_indices.append(idx)\n",
        "            max_images_in_valid_per_label[important_label] -= 1\n",
        "        elif max_images_in_test_per_label[important_label] > 0:\n",
        "            test_indices.append(idx)\n",
        "            max_images_in_test_per_label[important_label] -= 1\n",
        "        else:\n",
        "            print(\"WARNING: we reached max capacity for label %s in train, valid, and test sets\" % important_label)\n",
        "            \n",
        "        \n",
        "    \n",
        "    train_data = torch.utils.data.Subset(dataset, train_indices)\n",
        "    valid_data = torch.utils.data.Subset(dataset, valid_indices)\n",
        "    test_data  = torch.utils.data.Subset(dataset, test_indices)\n",
        "    \n",
        "    return train_data, valid_data, test_data"
      ],
      "execution_count": 0,
      "outputs": []
    },
    {
      "cell_type": "code",
      "metadata": {
        "id": "iZLjp-iF7_VI",
        "colab_type": "code",
        "outputId": "eca1fdb3-0e79-4b3c-a11c-1a66f8b197e4",
        "colab": {
          "base_uri": "https://localhost:8080/",
          "height": 377
        }
      },
      "source": [
        "args = {\n",
        "    'rescale': 256,\n",
        "    'predictor': 'Collor_Metal'\n",
        "}\n",
        "\n",
        "use_gpu = torch.cuda.is_available()\n",
        "if use_gpu:\n",
        "  device_id = torch.cuda.current_device()\n",
        "  print(\"device name:\", torch.cuda.get_device_name(device_id))\n",
        "else:\n",
        "  print(\"on CPU :(\")\n",
        "\n",
        "transformed_dataset = JoreyDataSets(\n",
        "    data_frame = data_frame,\n",
        "    root_dir   = ROOT_FOLDER + '/new_images_04_11', \n",
        "    transform  = transforms.Compose(\n",
        "        [Rescale((args['rescale'], args['rescale'])), ToTensor()]  # transforming the images into 256 x 256 squares and convert to tensor objects\n",
        "    )\n",
        ")\n",
        "\n",
        "#train_data, valid_data, test_data = split_random(transformed_dataset)\n",
        "train_data, valid_data, test_data = split_equal(transformed_dataset, args['predictor'])\n",
        "\n",
        "print(\"train data:\", len(train_data))\n",
        "print(\"valid data:\", len(valid_data))\n",
        "print(\"test data:\", len(test_data))"
      ],
      "execution_count": 0,
      "outputs": [
        {
          "output_type": "stream",
          "text": [
            "device name: Tesla T4\n",
            "total data size: 3274\n",
            "number of training images should be around  2619\n",
            "number of validation images should be around  327\n",
            "number of test images should be around  327\n",
            "number of possible values for category Collor_Metal is 4\n",
            "max images for each category in the train set: {0: 260, 1: 938, 2: 894, 3: 526}\n",
            "max images for each category in the valid set: {0: 32, 1: 117, 2: 111, 3: 65}\n",
            "max images for each category in the testing set: {0: 32, 1: 117, 2: 111, 3: 65}\n"
          ],
          "name": "stdout"
        },
        {
          "output_type": "stream",
          "text": [
            "/usr/local/lib/python3.6/dist-packages/skimage/transform/_warps.py:110: UserWarning: Anti-aliasing will be enabled by default in skimage 0.15 to avoid aliasing artifacts when down-sampling images.\n",
            "  warn(\"Anti-aliasing will be enabled by default in skimage 0.15 to \"\n"
          ],
          "name": "stderr"
        },
        {
          "output_type": "stream",
          "text": [
            "WARNING: we reached max capacity for label 0.0 in train, valid, and test sets\n",
            "WARNING: we reached max capacity for label 1.0 in train, valid, and test sets\n",
            "WARNING: we reached max capacity for label 2.0 in train, valid, and test sets\n",
            "WARNING: we reached max capacity for label 2.0 in train, valid, and test sets\n",
            "WARNING: we reached max capacity for label 3.0 in train, valid, and test sets\n",
            "WARNING: we reached max capacity for label 3.0 in train, valid, and test sets\n",
            "train data: 2618\n",
            "valid data: 325\n",
            "test data: 325\n"
          ],
          "name": "stdout"
        }
      ]
    },
    {
      "cell_type": "code",
      "metadata": {
        "id": "aWEwwwOCsjQK",
        "colab_type": "code",
        "colab": {}
      },
      "source": [
        "args['batch_size'] = 32\n",
        "args['n_workers']  = 4\n",
        "args['max_epochs'] = 100\n",
        "\n",
        "bs = args['batch_size']  # batch size is usually a power of 2, ex: 16, 32, 64, 128, 256, 512, 1024, 2048\n",
        "n_workers = args['n_workers']\n",
        "num_epochs = args['max_epochs']\n",
        "\n",
        "'''\n",
        "STEP 2: MAKING DATASET ITERABLE\n",
        "This is very specific to pytorch.\n",
        "'''\n",
        "train_loader = torch.utils.data.DataLoader(train_data, batch_size=bs, shuffle=True, num_workers=n_workers)\n",
        "valid_loader = torch.utils.data.DataLoader(valid_data, batch_size=bs, shuffle=False, num_workers=n_workers)\n",
        "test_loader = torch.utils.data.DataLoader(test_data, batch_size=bs, shuffle=False, num_workers=n_workers)\n"
      ],
      "execution_count": 0,
      "outputs": []
    },
    {
      "cell_type": "code",
      "metadata": {
        "id": "Bl9TlzztuGd4",
        "colab_type": "code",
        "outputId": "0026728c-514d-4839-ce87-faafde32b959",
        "colab": {
          "base_uri": "https://localhost:8080/",
          "height": 1295
        }
      },
      "source": [
        "import pprint\n",
        "'''\n",
        "Print statistics for training / validation / test set\n",
        "Print the number of items for each category (TYPE, CollorMetal, etc...)\n",
        "'''\n",
        "# TODO:\n",
        "# - pretty print the statistics (ex: json format or python pretty print) so that it is readable by us (not on one single line)\n",
        "# - print the labels in their STRING format not their IDX by using the appropriate dictionary\n",
        "for data_split, data in zip(('train', 'valid', 'test'), (train_data, valid_data, test_data)):\n",
        "\n",
        "    statistics = {\n",
        "        'TYPE': {},\n",
        "        'Collor_Metal': {},\n",
        "        'TRANCHE_DAGE_SIMPLE': {},\n",
        "        'FORME_TYPIQUE_SIMPLE': {},\n",
        "        'PORTEE': {}\n",
        "    }\n",
        "    for sample in data:\n",
        "        a_type, a_collor_metal, a_tranche_dage_simple, a_forme_typique_simple , a_portee = sample['labels']\n",
        "        \n",
        "        # for Collor_Metal\n",
        "        try:\n",
        "          statistics['Collor_Metal'][idx_to_str_collor_metal[int(a_collor_metal)]] += 1\n",
        "        except KeyError:\n",
        "          statistics['Collor_Metal'][idx_to_str_collor_metal[int(a_collor_metal)]] = 1  \n",
        "        # for TYPE\n",
        "        try:\n",
        "          statistics['TYPE'][idx_to_str_type[int(a_type)]] += 1\n",
        "        except KeyError:\n",
        "          statistics['TYPE'][idx_to_str_type[int(a_type)]] = 1\n",
        "        # for TRANCHE_DAGE_SIMPLE\n",
        "        try:\n",
        "          statistics['TRANCHE_DAGE_SIMPLE'][idx_to_str_TRANCHE_DAGE_SIMPLE[int(a_tranche_dage_simple)]] += 1\n",
        "        except KeyError:\n",
        "          statistics['TRANCHE_DAGE_SIMPLE'][idx_to_str_TRANCHE_DAGE_SIMPLE[int(a_tranche_dage_simple)]] = 1\n",
        "        # for FORME_TYPIQUE_SIMPLE\n",
        "        try:\n",
        "          statistics['FORME_TYPIQUE_SIMPLE'][idx_to_str_FORME_TYPIQUE_SIMPLE[int(a_forme_typique_simple)]] += 1\n",
        "        except KeyError:\n",
        "          statistics['FORME_TYPIQUE_SIMPLE'][idx_to_str_FORME_TYPIQUE_SIMPLE[int(a_forme_typique_simple)]] = 1\n",
        "        # for PORTEE\n",
        "        try:\n",
        "          statistics['PORTEE'][idx_to_str_PORTEE[int(a_portee)]] += 1\n",
        "        except KeyError:\n",
        "          statistics['PORTEE'][idx_to_str_PORTEE[int(a_portee)]] = 1\n",
        "    \n",
        "    print(data_split, ':')\n",
        "    \n",
        "    for category, counts in statistics.items():\n",
        "        print(\"\\t\", category)\n",
        "        for value, count in counts.items():\n",
        "          print(\"\\t\\t%s = %d / %d = %.4f\" % (value, count, len(data), count/len(data)))"
      ],
      "execution_count": 0,
      "outputs": [
        {
          "output_type": "stream",
          "text": [
            "/usr/local/lib/python3.6/dist-packages/skimage/transform/_warps.py:110: UserWarning: Anti-aliasing will be enabled by default in skimage 0.15 to avoid aliasing artifacts when down-sampling images.\n",
            "  warn(\"Anti-aliasing will be enabled by default in skimage 0.15 to \"\n"
          ],
          "name": "stderr"
        },
        {
          "output_type": "stream",
          "text": [
            "train :\n",
            "\t TYPE\n",
            "\t\tbague = 878 / 2618 = 0.3354\n",
            "\t\tboucle doreille = 1110 / 2618 = 0.4240\n",
            "\t\tbracelet = 630 / 2618 = 0.2406\n",
            "\t Collor_Metal\n",
            "\t\tgris = 938 / 2618 = 0.3583\n",
            "\t\tjaune = 894 / 2618 = 0.3415\n",
            "\t\tautre = 260 / 2618 = 0.0993\n",
            "\t\trose = 526 / 2618 = 0.2009\n",
            "\t TRANCHE_DAGE_SIMPLE\n",
            "\t\t20_35_ans = 414 / 2618 = 0.1581\n",
            "\t\tIndifferent = 1709 / 2618 = 0.6528\n",
            "\t\tmoin_20_ans = 366 / 2618 = 0.1398\n",
            "\t\tplus_35 = 129 / 2618 = 0.0493\n",
            "\t FORME_TYPIQUE_SIMPLE\n",
            "\t\tAutre = 440 / 2618 = 0.1681\n",
            "\t\tBague Bandeau = 238 / 2618 = 0.0909\n",
            "\t\tBague Motif sur jonc = 283 / 2618 = 0.1081\n",
            "\t\tBague Solitaire = 151 / 2618 = 0.0577\n",
            "\t\tBO Motif = 208 / 2618 = 0.0794\n",
            "\t\tBO Pendant = 368 / 2618 = 0.1406\n",
            "\t\tBO Puces = 352 / 2618 = 0.1345\n",
            "\t\tBracelet Chaine = 505 / 2618 = 0.1929\n",
            "\t\tBracelet Jonc = 73 / 2618 = 0.0279\n",
            "\t PORTEE\n",
            "\t\tFiançailles = 185 / 2618 = 0.0707\n",
            "\t\tTous les jours = 2257 / 2618 = 0.8621\n",
            "\t\tSoir = 176 / 2618 = 0.0672\n",
            "valid :\n",
            "\t TYPE\n",
            "\t\tbracelet = 248 / 325 = 0.7631\n",
            "\t\tcollier / pendentif = 77 / 325 = 0.2369\n",
            "\t Collor_Metal\n",
            "\t\trose = 65 / 325 = 0.2000\n",
            "\t\tjaune = 111 / 325 = 0.3415\n",
            "\t\tgris = 117 / 325 = 0.3600\n",
            "\t\tautre = 32 / 325 = 0.0985\n",
            "\t TRANCHE_DAGE_SIMPLE\n",
            "\t\t20_35_ans = 144 / 325 = 0.4431\n",
            "\t\tmoin_20_ans = 83 / 325 = 0.2554\n",
            "\t\tIndifferent = 84 / 325 = 0.2585\n",
            "\t\tplus_35 = 14 / 325 = 0.0431\n",
            "\t FORME_TYPIQUE_SIMPLE\n",
            "\t\tAutre = 80 / 325 = 0.2462\n",
            "\t\tBracelet Chaine = 9 / 325 = 0.0277\n",
            "\t\tBracelet Jonc = 165 / 325 = 0.5077\n",
            "\t\tCollier_Pendentif_chaine = 71 / 325 = 0.2185\n",
            "\t PORTEE\n",
            "\t\tTous les jours = 310 / 325 = 0.9538\n",
            "\t\tSoir = 15 / 325 = 0.0462\n",
            "test :\n",
            "\t TYPE\n",
            "\t\tbracelet = 13 / 325 = 0.0400\n",
            "\t\tcollier / pendentif = 312 / 325 = 0.9600\n",
            "\t Collor_Metal\n",
            "\t\trose = 65 / 325 = 0.2000\n",
            "\t\tgris = 117 / 325 = 0.3600\n",
            "\t\tjaune = 111 / 325 = 0.3415\n",
            "\t\tautre = 32 / 325 = 0.0985\n",
            "\t TRANCHE_DAGE_SIMPLE\n",
            "\t\tIndifferent = 64 / 325 = 0.1969\n",
            "\t\tmoin_20_ans = 84 / 325 = 0.2585\n",
            "\t\tplus_35 = 26 / 325 = 0.0800\n",
            "\t\t20_35_ans = 151 / 325 = 0.4646\n",
            "\t FORME_TYPIQUE_SIMPLE\n",
            "\t\tAutre = 88 / 325 = 0.2708\n",
            "\t\tBracelet Jonc = 9 / 325 = 0.0277\n",
            "\t\tCollier_Pendentif_chaine = 228 / 325 = 0.7015\n",
            "\t PORTEE\n",
            "\t\tTous les jours = 305 / 325 = 0.9385\n",
            "\t\tSoir = 20 / 325 = 0.0615\n"
          ],
          "name": "stdout"
        }
      ]
    },
    {
      "cell_type": "code",
      "metadata": {
        "id": "JrbYfWn0smFi",
        "colab_type": "code",
        "colab": {}
      },
      "source": [
        "import torch.nn as nn\n",
        "\n",
        "'''\n",
        "STEP 3: CREATE MODEL CLASS\n",
        "'''\n",
        "class CNNModel(nn.Module):\n",
        "    def __init__(self, batch_size, n_class):\n",
        "        super(CNNModel, self).__init__()\n",
        "        \n",
        "        # Convolution 1\n",
        "        self.cnn1 = nn.Conv2d(in_channels=3, out_channels=16, kernel_size=3, stride=1, padding=1)\n",
        "        self.relu1 = nn.ReLU()\n",
        "        \n",
        "        # Max pool 1\n",
        "        self.maxpool1 = nn.MaxPool2d(kernel_size=2)\n",
        "     \n",
        "        # Convolution 2\n",
        "        self.cnn2 = nn.Conv2d(in_channels=16, out_channels=32, kernel_size=3, stride=1, padding=1)\n",
        "        self.relu2 = nn.ReLU()\n",
        "        \n",
        "        # Max pool 2\n",
        "        self.maxpool2 = nn.MaxPool2d(kernel_size=2)\n",
        "        \n",
        "        # Fully connected 1 (readout)\n",
        "        self.fc1 = nn.Linear(batch_size * 64 * 64, n_class) \n",
        "    \n",
        "    def forward(self, x):\n",
        "        \"\"\"\n",
        "        This received a lot of images. And produce one vector for each image.\n",
        "        :param x: is a batch of images. Tensor of shape ~~ (batch_size,  n_channels, height, width) ~~\n",
        "        \"\"\"\n",
        "        #                     # ~(bs, 3, 256, 256)\n",
        "        \n",
        "        # Convolution 1\n",
        "        h = self.cnn1(x)      # ~(bs, 16, 256, 256)\n",
        "        h = self.relu1(h)\n",
        "        \n",
        "        # Max pool 1\n",
        "        h = self.maxpool1(h)  # ~(bs, 16, 128, 128)\n",
        "        \n",
        "        # Convolution 2 \n",
        "        h = self.cnn2(h)      # ~(bs, 32, 128, 128)\n",
        "        h = self.relu2(h)\n",
        "        \n",
        "        # Max pool 2 \n",
        "        h = self.maxpool2(h)  # ~(bs, 32, 64, 64)\n",
        "        \n",
        "        # Resize\n",
        "        vec = h.view(h.size(0), -1)  # ~(bs, 32 * 64 * 64)\n",
        "\n",
        "        # Linear function (readout)\n",
        "        out = self.fc1(vec)          # ~(bs, n_class)\n",
        "        \n",
        "        return out, vec\n",
        "\n"
      ],
      "execution_count": 0,
      "outputs": []
    },
    {
      "cell_type": "code",
      "metadata": {
        "id": "hnakt_bh4IjE",
        "colab_type": "code",
        "colab": {}
      },
      "source": [
        "def get_targets(dataframe, predictor):\n",
        "    \"\"\"\n",
        "    Return the total number of possible values that can be found\n",
        "    in column `predictor` from the dataframe\n",
        "    AND\n",
        "    return the column index of column `predictor`\n",
        "    :param dataframe: dataframe object containing all data\n",
        "    :param predictor: column id\n",
        "    :return: the number of possible values for column `predictor`, and its column index\n",
        "    \"\"\"\n",
        "    possible = dataframe[predictor].value_counts().count()\n",
        "    idx = dataframe.columns.get_loc(predictor)\n",
        "    return possible, idx"
      ],
      "execution_count": 0,
      "outputs": []
    },
    {
      "cell_type": "code",
      "metadata": {
        "id": "wVXO55XdOVw8",
        "colab_type": "code",
        "outputId": "ec92db02-e468-435d-c69e-39342f3bb2da",
        "colab": {
          "base_uri": "https://localhost:8080/",
          "height": 34
        }
      },
      "source": [
        "get_targets(data_frame, \"PORTEE\")"
      ],
      "execution_count": 0,
      "outputs": [
        {
          "output_type": "execute_result",
          "data": {
            "text/plain": [
              "(3, 4)"
            ]
          },
          "metadata": {
            "tags": []
          },
          "execution_count": 39
        }
      ]
    },
    {
      "cell_type": "code",
      "metadata": {
        "id": "J5HwAgmWXu2G",
        "colab_type": "code",
        "colab": {}
      },
      "source": [
        "def get_correct_dictionary(predictor):\n",
        "  \"\"\"\n",
        "  return the mapping from IDX to STRING and the opposite mapping for the specified target (predictor)\n",
        "  \"\"\"\n",
        "  if predictor == 'TYPE':\n",
        "    return idx_to_str_type, str_to_idx_type\n",
        "  elif predictor == 'Collor_Metal':\n",
        "    return idx_to_str_collor_metal, str_to_idx_collor_metal\n",
        "  elif predictor == 'TRANCHE_DAGE_SIMPLE':\n",
        "    return idx_to_str_TRANCHE_DAGE_SIMPLE, str_to_idx_TRANCHE_DAGE_SIMPLE \n",
        "  elif predictor == 'FORME_TYPIQUE_SIMPLE':\n",
        "    return idx_to_str_FORME_TYPIQUE_SIMPLE, str_to_idx_FORME_TYPIQUE_SIMPLE\n",
        "  elif predictor == 'PORTEE':\n",
        "    return idx_to_str_PORTEE, str_to_idx_PORTEE\n",
        "  else:\n",
        "    print(\"ERROR: unknown predictor : \", predictor)\n",
        "    return None, None\n",
        "  \n",
        " "
      ],
      "execution_count": 0,
      "outputs": []
    },
    {
      "cell_type": "code",
      "metadata": {
        "id": "YJuW1xAL4LMf",
        "colab_type": "code",
        "outputId": "de143c10-63c9-45b7-cd80-bf815e049f76",
        "colab": {
          "base_uri": "https://localhost:8080/",
          "height": 51
        }
      },
      "source": [
        "get_correct_dictionary(args['predictor'])"
      ],
      "execution_count": 0,
      "outputs": [
        {
          "output_type": "execute_result",
          "data": {
            "text/plain": [
              "({0: 'autre', 1: 'gris', 2: 'jaune', 3: 'rose'},\n",
              " {'autre': 0, 'gris': 1, 'jaune': 2, 'rose': 3})"
            ]
          },
          "metadata": {
            "tags": []
          },
          "execution_count": 41
        }
      ]
    },
    {
      "cell_type": "code",
      "metadata": {
        "id": "aeuT-qGyv7in",
        "colab_type": "code",
        "outputId": "b7cb762a-a6fd-4dfc-932b-a6624ac77e25",
        "colab": {
          "base_uri": "https://localhost:8080/",
          "height": 51
        }
      },
      "source": [
        "'''\n",
        "STEP 4: INSTANTIATE MODEL CLASS\n",
        "'''\n",
        "num_targets, column_id = get_targets(data_frame, args['predictor'])\n",
        "\n",
        "idx_to_str, str_to_idx = get_correct_dictionary(args['predictor'])\n",
        "\n",
        "\n",
        "model = CNNModel(bs, num_targets)  # number of types = 4\n",
        "\n",
        "model_id = 'classifier_' + args['predictor'] + '_' + str(time.time())\n",
        "\n",
        "args['model_id'] = model_id\n",
        "\n",
        "#######################\n",
        "#  USE GPU FOR MODEL  #\n",
        "#######################\n",
        "\n",
        "if use_gpu:\n",
        "    print(\"moving model to GPU...\")\n",
        "    model.cuda()\n",
        "print(\"done.\")"
      ],
      "execution_count": 0,
      "outputs": [
        {
          "output_type": "stream",
          "text": [
            "moving model to GPU...\n",
            "done.\n"
          ],
          "name": "stdout"
        }
      ]
    },
    {
      "cell_type": "code",
      "metadata": {
        "id": "wg-ubPI456Xx",
        "colab_type": "code",
        "colab": {}
      },
      "source": [
        "'''\n",
        "STEP 5: INSTANTIATE LOSS CLASS\n",
        "'''\n",
        "criterion = nn.CrossEntropyLoss()  # popular loss used in classification tasks\n",
        "\n",
        "\n",
        "'''\n",
        "STEP 6: INSTANTIATE OPTIMIZER CLASS\n",
        "'''\n",
        "#optimizer = torch.optim.SGD(model.parameters(), lr=0.01)\n",
        "optimizer = torch.optim.Adam(model.parameters())"
      ],
      "execution_count": 0,
      "outputs": []
    },
    {
      "cell_type": "code",
      "metadata": {
        "id": "HaM-TCJhAuV3",
        "colab_type": "code",
        "outputId": "a3e88044-8fd4-4313-f6cd-fbb26f35f408",
        "colab": {
          "base_uri": "https://localhost:8080/",
          "height": 34
        }
      },
      "source": [
        "'''\n",
        "STEP 7: TRAIN THE MODEL\n",
        "'''\n",
        "\n",
        "args['patience'] = 5\n",
        "\n",
        "##################\n",
        "# SAVE ARGUMENTS #\n",
        "##################\n",
        "with open(ROOT_FOLDER + '/models/' + model_id + '_args.json', 'w') as f:\n",
        "  json.dump(args, f)\n",
        "print('saved args.')"
      ],
      "execution_count": 0,
      "outputs": [
        {
          "output_type": "stream",
          "text": [
            "saved args.\n"
          ],
          "name": "stdout"
        }
      ]
    },
    {
      "cell_type": "code",
      "metadata": {
        "id": "xp5IJbU29t9M",
        "colab_type": "code",
        "colab": {}
      },
      "source": [
        "def check_detailed_accuracy(data_loader):\n",
        "    class_correct = list(0. for i in range(num_targets))\n",
        "    class_total = list(0. for i in range(num_targets))\n",
        "    with torch.no_grad():\n",
        "        for i, sampled_batch in enumerate(data_loader):\n",
        "              images = sampled_batch['image']\n",
        "              labels = sampled_batch['labels']\n",
        "              target = labels[:, column_id].long()  # TODO: check column_id is the correct variable\n",
        "\n",
        "              #  USE GPU FOR MODEL  #\n",
        "              if torch.cuda.is_available():\n",
        "                images = images.cuda()\n",
        "                target = target.cuda()\n",
        "\n",
        "              outputs, _ = model(images)\n",
        "              _, predicted = torch.max(outputs.data, 1)\n",
        "\n",
        "              correct = (predicted == target)\n",
        "\n",
        "              if correct.shape[0] > 1:\n",
        "                  for i in range(len(correct)):\n",
        "                      class_correct[target[i].item()] += correct[i].item()\n",
        "                      class_total[target[i].item()] += 1\n",
        "\n",
        "    for i in range(num_targets):\n",
        "        if class_total[i] == 0:\n",
        "            print(\"No datapoints for this category:\", idx_to_str[i])\n",
        "        else:\n",
        "            print('Accuracy of %s : %.2d / %.2d = %.6f' % (idx_to_str[i], class_correct[i], class_total[i], class_correct[i]/class_total[i]))"
      ],
      "execution_count": 0,
      "outputs": []
    },
    {
      "cell_type": "code",
      "metadata": {
        "id": "B5w-rbp05-do",
        "colab_type": "code",
        "outputId": "f1e683be-7623-42e7-cc87-d93365cfcdb0",
        "colab": {
          "base_uri": "https://localhost:8080/",
          "height": 3981
        }
      },
      "source": [
        "timings = {\n",
        "    'train_loss': [],\n",
        "    'train_acc': [],\n",
        "    'valid_loss': [],\n",
        "    'valid_acc': [],\n",
        "    'patiences': [args['patience']]\n",
        "}\n",
        "\n",
        "patience = args['patience']\n",
        "\n",
        "best_valid_loss = 2000.0  # keep track of the lowest validation error\n",
        "\n",
        "for epoch in range(num_epochs):\n",
        "  \n",
        "    ########################\n",
        "    # TRAINING STEPS BEGIN #\n",
        "    ########################\n",
        "    training_loss = 0.0\n",
        "    training_step = 0.0\n",
        "    \n",
        "    correct = 0.0\n",
        "    total = 0.0\n",
        "    \n",
        "    for i, sampled_batch in enumerate(train_loader):\n",
        "      \n",
        "        images = sampled_batch['image']\n",
        "        labels = sampled_batch['labels']\n",
        "        \n",
        "        target = labels[:, column_id].long()\n",
        "        #print(target)\n",
        "        \n",
        "        \n",
        "        #  USE GPU FOR MODEL  #\n",
        "        if torch.cuda.is_available():\n",
        "            images = images.cuda()\n",
        "            target = target.cuda()\n",
        "        \n",
        "        # Clear gradients w.r.t. parameters\n",
        "        optimizer.zero_grad()\n",
        "        \n",
        "        # Forward pass to get output/logits\n",
        "        outputs, _ = model(images)\n",
        "        \n",
        "        # Calculate Loss: softmax --> cross entropy loss\n",
        "        loss = criterion(outputs, target)\n",
        "        training_loss += loss.item()\n",
        "        training_step += 1\n",
        "        \n",
        "        # Getting gradients w.r.t. parameters\n",
        "        loss.backward()\n",
        "        \n",
        "        # Updating parameters\n",
        "        optimizer.step()\n",
        "        \n",
        "        # Get predictions from the maximum value\n",
        "        _, predicted = torch.max(outputs.data, 1)\n",
        "\n",
        "        # Total number of targets\n",
        "        this_batch_size = target.size(0)\n",
        "        total += this_batch_size\n",
        "        \n",
        "        #  USE GPU FOR MODEL  #\n",
        "        # Total correct predictions\n",
        "        if torch.cuda.is_available():\n",
        "            this_batch_correct = (predicted.cpu() == target.cpu()).sum()\n",
        "        else:\n",
        "            this_batch_correct = (predicted == target).sum()\n",
        "        correct += this_batch_correct\n",
        "        \n",
        "        # print stats every 10 batch\n",
        "        if i % 10 == 0:\n",
        "          this_batch_acc = float(this_batch_correct) / float(this_batch_size)\n",
        "          print(\"| epoch %.2d | batch %.3d | loss %.6f | acc %.2d/%.2d=%.6f |\" % (\n",
        "              epoch+1, i+1, loss.item(), this_batch_correct, this_batch_size, this_batch_acc\n",
        "          ))\n",
        "        \n",
        "    training_loss = (training_loss / training_step)\n",
        "    training_accuracy = float(correct) / float(total)\n",
        "    # print('|-------------------------------------------------------------|')\n",
        "    print('| epoch %.2d | train loss %.6f | train accuracy %.4d/%.4d=%.6f |' % (\n",
        "        epoch+1, training_loss, correct, total, training_accuracy\n",
        "    ))\n",
        "    # print detailed accuracy for each category in the TRAINING set\n",
        "    print(\"DETAILED ACCURACY ON THE TRAINING SET:\")\n",
        "    check_detailed_accuracy(train_loader)\n",
        "    \n",
        "    # save timings\n",
        "    timings['train_loss'].append(training_loss)\n",
        "    timings['train_acc'].append(training_accuracy)\n",
        "    ######################\n",
        "    # TRAINING STEPS END #\n",
        "    ######################\n",
        "    \n",
        "    ##########################\n",
        "    # VALIDATION STEPS BEGIN #\n",
        "    ##########################\n",
        "\n",
        "    # Calculate Accuracy         \n",
        "    correct = 0\n",
        "    total = 0\n",
        "    valid_loss = 0.0\n",
        "    valid_steps = 0.0\n",
        "    # Iterate through validation dataset\n",
        "    for sampled_batch in valid_loader:  # NOW WE USE VALIDATION DATA !\n",
        "        images = sampled_batch['image']\n",
        "        labels = sampled_batch['labels']\n",
        "        \n",
        "        target = labels[:, column_id].long()\n",
        "        \n",
        "        #  USE GPU FOR MODEL  #\n",
        "        if torch.cuda.is_available():\n",
        "            images = images.cuda()\n",
        "            target = target.cuda()\n",
        "\n",
        "        # Forward pass only to get logits/output\n",
        "        outputs, _ = model(images)\n",
        "        \n",
        "        # Calculate Loss: softmax --> cross entropy loss\n",
        "        loss = criterion(outputs, target)\n",
        "        valid_loss += loss.item()\n",
        "        valid_steps += 1\n",
        "\n",
        "        # Get predictions from the maximum value\n",
        "        _, predicted = torch.max(outputs.data, 1)\n",
        "\n",
        "        # Total number of targets\n",
        "        total += target.size(0)\n",
        "\n",
        "        #  USE GPU FOR MODEL  #\n",
        "        # Total correct predictions\n",
        "        if torch.cuda.is_available():\n",
        "            correct += (predicted.cpu() == target.cpu()).sum()\n",
        "        else:\n",
        "            correct += (predicted == target).sum()\n",
        "\n",
        "    valid_loss = (valid_loss / valid_steps)\n",
        "    valid_accuracy = float(correct) / float(total)\n",
        "    print('| epoch %.2d | valid loss %.6f | valid accuracy %.4d/%.4d=%.6f |' % (\n",
        "        epoch+1, valid_loss, correct, total, valid_accuracy\n",
        "    ))\n",
        "    # print detailed accuracy for each category in the VALIDATION set\n",
        "    print(\"DETAILED ACCURACY ON THE VALIDATION SET:\")\n",
        "    check_detailed_accuracy(valid_loader)\n",
        "    \n",
        "    # save timings\n",
        "    timings['valid_loss'].append(valid_loss)\n",
        "    timings['train_acc'].append(valid_accuracy)\n",
        "    \n",
        "    ##########################\n",
        "    # VALIDATION STEPS END #\n",
        "    ##########################\n",
        "    \n",
        "    ##########################\n",
        "    # EARLY STOPPING BEGIN #\n",
        "    ##########################\n",
        "\n",
        "    # if valid_accuracy > max_valid_accuracy :\n",
        "    if valid_loss < best_valid_loss:\n",
        "        best_valid_loss = valid_loss\n",
        "        patience = args['patience']  # RESET patience to initial value\n",
        "        # SAVE MODEL PARAMETERS\n",
        "        torch.save(model.state_dict(), ROOT_FOLDER + '/models/' + model_id + '_best.pt')\n",
        "        \n",
        "        print(\"Model improved!\\nSaved new model parameters!\")\n",
        "    else:\n",
        "        patience -= 1  # REDUCE patience\n",
        "        print(\"Model got worst :(\\npatience: %d\" % patience)\n",
        "    \n",
        "    timings['patiences'].append(patience)\n",
        "    \n",
        "    if patience <= 0:\n",
        "      break  # STOP TRAINING LOOP\n",
        " \n",
        "    \n",
        "    ##########################\n",
        "    # EARLY STOPPING STOP #\n",
        "    ##########################\n",
        "\n",
        "################\n",
        "# SAVE TIMINGS #\n",
        "################\n",
        "with open(ROOT_FOLDER + '/models/' + model_id + '_timings.json', 'w') as f:\n",
        "  json.dump(timings, f)\n",
        "print('timings saved.')\n",
        "\n",
        "\n",
        "# print detailed accuracy for each category in the TEST set\n",
        "print(\"DETAILED ACCURACY ON THE TEST SET:\")\n",
        "check_detailed_accuracy(test_loader)\n",
        "\n",
        "########################\n",
        "# PLOT LEARNING CURVES #\n",
        "########################\n",
        "\n",
        "# TODO: plot training and validation losses\n",
        "# TODO: plot training and validation accuracies"
      ],
      "execution_count": 0,
      "outputs": [
        {
          "output_type": "stream",
          "text": [
            "/usr/local/lib/python3.6/dist-packages/skimage/transform/_warps.py:110: UserWarning: Anti-aliasing will be enabled by default in skimage 0.15 to avoid aliasing artifacts when down-sampling images.\n",
            "  warn(\"Anti-aliasing will be enabled by default in skimage 0.15 to \"\n",
            "/usr/local/lib/python3.6/dist-packages/skimage/transform/_warps.py:110: UserWarning: Anti-aliasing will be enabled by default in skimage 0.15 to avoid aliasing artifacts when down-sampling images.\n",
            "  warn(\"Anti-aliasing will be enabled by default in skimage 0.15 to \"\n",
            "/usr/local/lib/python3.6/dist-packages/skimage/transform/_warps.py:110: UserWarning: Anti-aliasing will be enabled by default in skimage 0.15 to avoid aliasing artifacts when down-sampling images.\n",
            "  warn(\"Anti-aliasing will be enabled by default in skimage 0.15 to \"\n",
            "/usr/local/lib/python3.6/dist-packages/skimage/transform/_warps.py:110: UserWarning: Anti-aliasing will be enabled by default in skimage 0.15 to avoid aliasing artifacts when down-sampling images.\n",
            "  warn(\"Anti-aliasing will be enabled by default in skimage 0.15 to \"\n"
          ],
          "name": "stderr"
        },
        {
          "output_type": "stream",
          "text": [
            "| epoch 01 | batch 001 | loss 1.373388 | acc 06/32=0.187500 |\n",
            "| epoch 01 | batch 011 | loss 1.374636 | acc 09/32=0.281250 |\n",
            "| epoch 01 | batch 021 | loss 1.257887 | acc 13/32=0.406250 |\n",
            "| epoch 01 | batch 031 | loss 1.413575 | acc 10/32=0.312500 |\n",
            "| epoch 01 | batch 041 | loss 1.337588 | acc 15/32=0.468750 |\n",
            "| epoch 01 | batch 051 | loss 1.162606 | acc 15/32=0.468750 |\n",
            "| epoch 01 | batch 061 | loss 1.387271 | acc 09/32=0.281250 |\n",
            "| epoch 01 | batch 071 | loss 1.279822 | acc 12/32=0.375000 |\n",
            "| epoch 01 | batch 081 | loss 1.353821 | acc 09/32=0.281250 |\n",
            "| epoch 01 | train loss 1.699267 | train accuracy 0976/2618=0.372804 |\n",
            "DETAILED ACCURACY ON THE TRAINING SET:\n"
          ],
          "name": "stdout"
        },
        {
          "output_type": "stream",
          "text": [
            "/usr/local/lib/python3.6/dist-packages/skimage/transform/_warps.py:110: UserWarning: Anti-aliasing will be enabled by default in skimage 0.15 to avoid aliasing artifacts when down-sampling images.\n",
            "  warn(\"Anti-aliasing will be enabled by default in skimage 0.15 to \"\n",
            "/usr/local/lib/python3.6/dist-packages/skimage/transform/_warps.py:110: UserWarning: Anti-aliasing will be enabled by default in skimage 0.15 to avoid aliasing artifacts when down-sampling images.\n",
            "  warn(\"Anti-aliasing will be enabled by default in skimage 0.15 to \"\n",
            "/usr/local/lib/python3.6/dist-packages/skimage/transform/_warps.py:110: UserWarning: Anti-aliasing will be enabled by default in skimage 0.15 to avoid aliasing artifacts when down-sampling images.\n",
            "  warn(\"Anti-aliasing will be enabled by default in skimage 0.15 to \"\n",
            "/usr/local/lib/python3.6/dist-packages/skimage/transform/_warps.py:110: UserWarning: Anti-aliasing will be enabled by default in skimage 0.15 to avoid aliasing artifacts when down-sampling images.\n",
            "  warn(\"Anti-aliasing will be enabled by default in skimage 0.15 to \"\n"
          ],
          "name": "stderr"
        },
        {
          "output_type": "stream",
          "text": [
            "Accuracy of autre : 31 / 260 = 0.119231\n",
            "Accuracy of gris : 429 / 938 = 0.457356\n",
            "Accuracy of jaune : 754 / 894 = 0.843400\n",
            "Accuracy of rose : 46 / 526 = 0.087452\n"
          ],
          "name": "stdout"
        },
        {
          "output_type": "stream",
          "text": [
            "/usr/local/lib/python3.6/dist-packages/skimage/transform/_warps.py:110: UserWarning: Anti-aliasing will be enabled by default in skimage 0.15 to avoid aliasing artifacts when down-sampling images.\n",
            "  warn(\"Anti-aliasing will be enabled by default in skimage 0.15 to \"\n",
            "/usr/local/lib/python3.6/dist-packages/skimage/transform/_warps.py:110: UserWarning: Anti-aliasing will be enabled by default in skimage 0.15 to avoid aliasing artifacts when down-sampling images.\n",
            "  warn(\"Anti-aliasing will be enabled by default in skimage 0.15 to \"\n",
            "/usr/local/lib/python3.6/dist-packages/skimage/transform/_warps.py:110: UserWarning: Anti-aliasing will be enabled by default in skimage 0.15 to avoid aliasing artifacts when down-sampling images.\n",
            "  warn(\"Anti-aliasing will be enabled by default in skimage 0.15 to \"\n",
            "/usr/local/lib/python3.6/dist-packages/skimage/transform/_warps.py:110: UserWarning: Anti-aliasing will be enabled by default in skimage 0.15 to avoid aliasing artifacts when down-sampling images.\n",
            "  warn(\"Anti-aliasing will be enabled by default in skimage 0.15 to \"\n"
          ],
          "name": "stderr"
        },
        {
          "output_type": "stream",
          "text": [
            "| epoch 01 | valid loss 1.313882 | valid accuracy 0128/0325=0.393846 |\n",
            "DETAILED ACCURACY ON THE VALIDATION SET:\n"
          ],
          "name": "stdout"
        },
        {
          "output_type": "stream",
          "text": [
            "/usr/local/lib/python3.6/dist-packages/skimage/transform/_warps.py:110: UserWarning: Anti-aliasing will be enabled by default in skimage 0.15 to avoid aliasing artifacts when down-sampling images.\n",
            "  warn(\"Anti-aliasing will be enabled by default in skimage 0.15 to \"\n",
            "/usr/local/lib/python3.6/dist-packages/skimage/transform/_warps.py:110: UserWarning: Anti-aliasing will be enabled by default in skimage 0.15 to avoid aliasing artifacts when down-sampling images.\n",
            "  warn(\"Anti-aliasing will be enabled by default in skimage 0.15 to \"\n",
            "/usr/local/lib/python3.6/dist-packages/skimage/transform/_warps.py:110: UserWarning: Anti-aliasing will be enabled by default in skimage 0.15 to avoid aliasing artifacts when down-sampling images.\n",
            "  warn(\"Anti-aliasing will be enabled by default in skimage 0.15 to \"\n",
            "/usr/local/lib/python3.6/dist-packages/skimage/transform/_warps.py:110: UserWarning: Anti-aliasing will be enabled by default in skimage 0.15 to avoid aliasing artifacts when down-sampling images.\n",
            "  warn(\"Anti-aliasing will be enabled by default in skimage 0.15 to \"\n"
          ],
          "name": "stderr"
        },
        {
          "output_type": "stream",
          "text": [
            "Accuracy of autre : 00 / 32 = 0.000000\n",
            "Accuracy of gris : 51 / 117 = 0.435897\n",
            "Accuracy of jaune : 76 / 111 = 0.684685\n",
            "Accuracy of rose : 01 / 65 = 0.015385\n",
            "Model improved!\n",
            "Saved new model parameters!\n"
          ],
          "name": "stdout"
        },
        {
          "output_type": "stream",
          "text": [
            "/usr/local/lib/python3.6/dist-packages/skimage/transform/_warps.py:110: UserWarning: Anti-aliasing will be enabled by default in skimage 0.15 to avoid aliasing artifacts when down-sampling images.\n",
            "  warn(\"Anti-aliasing will be enabled by default in skimage 0.15 to \"\n",
            "/usr/local/lib/python3.6/dist-packages/skimage/transform/_warps.py:110: UserWarning: Anti-aliasing will be enabled by default in skimage 0.15 to avoid aliasing artifacts when down-sampling images.\n",
            "  warn(\"Anti-aliasing will be enabled by default in skimage 0.15 to \"\n",
            "/usr/local/lib/python3.6/dist-packages/skimage/transform/_warps.py:110: UserWarning: Anti-aliasing will be enabled by default in skimage 0.15 to avoid aliasing artifacts when down-sampling images.\n",
            "  warn(\"Anti-aliasing will be enabled by default in skimage 0.15 to \"\n",
            "/usr/local/lib/python3.6/dist-packages/skimage/transform/_warps.py:110: UserWarning: Anti-aliasing will be enabled by default in skimage 0.15 to avoid aliasing artifacts when down-sampling images.\n",
            "  warn(\"Anti-aliasing will be enabled by default in skimage 0.15 to \"\n"
          ],
          "name": "stderr"
        },
        {
          "output_type": "stream",
          "text": [
            "| epoch 02 | batch 001 | loss 1.267957 | acc 15/32=0.468750 |\n",
            "| epoch 02 | batch 011 | loss 1.159604 | acc 15/32=0.468750 |\n",
            "| epoch 02 | batch 021 | loss 1.357035 | acc 12/32=0.375000 |\n",
            "| epoch 02 | batch 031 | loss 1.138115 | acc 15/32=0.468750 |\n",
            "| epoch 02 | batch 041 | loss 1.278478 | acc 15/32=0.468750 |\n",
            "| epoch 02 | batch 051 | loss 1.029393 | acc 17/32=0.531250 |\n",
            "| epoch 02 | batch 061 | loss 1.252159 | acc 12/32=0.375000 |\n",
            "| epoch 02 | batch 071 | loss 1.201819 | acc 16/32=0.500000 |\n",
            "| epoch 02 | batch 081 | loss 1.221497 | acc 14/32=0.437500 |\n",
            "| epoch 02 | train loss 1.226518 | train accuracy 1179/2618=0.450344 |\n",
            "DETAILED ACCURACY ON THE TRAINING SET:\n"
          ],
          "name": "stdout"
        },
        {
          "output_type": "stream",
          "text": [
            "/usr/local/lib/python3.6/dist-packages/skimage/transform/_warps.py:110: UserWarning: Anti-aliasing will be enabled by default in skimage 0.15 to avoid aliasing artifacts when down-sampling images.\n",
            "  warn(\"Anti-aliasing will be enabled by default in skimage 0.15 to \"\n",
            "/usr/local/lib/python3.6/dist-packages/skimage/transform/_warps.py:110: UserWarning: Anti-aliasing will be enabled by default in skimage 0.15 to avoid aliasing artifacts when down-sampling images.\n",
            "  warn(\"Anti-aliasing will be enabled by default in skimage 0.15 to \"\n",
            "/usr/local/lib/python3.6/dist-packages/skimage/transform/_warps.py:110: UserWarning: Anti-aliasing will be enabled by default in skimage 0.15 to avoid aliasing artifacts when down-sampling images.\n",
            "  warn(\"Anti-aliasing will be enabled by default in skimage 0.15 to \"\n",
            "/usr/local/lib/python3.6/dist-packages/skimage/transform/_warps.py:110: UserWarning: Anti-aliasing will be enabled by default in skimage 0.15 to avoid aliasing artifacts when down-sampling images.\n",
            "  warn(\"Anti-aliasing will be enabled by default in skimage 0.15 to \"\n"
          ],
          "name": "stderr"
        },
        {
          "output_type": "stream",
          "text": [
            "Accuracy of autre : 42 / 260 = 0.161538\n",
            "Accuracy of gris : 393 / 938 = 0.418977\n",
            "Accuracy of jaune : 791 / 894 = 0.884787\n",
            "Accuracy of rose : 68 / 526 = 0.129278\n"
          ],
          "name": "stdout"
        },
        {
          "output_type": "stream",
          "text": [
            "/usr/local/lib/python3.6/dist-packages/skimage/transform/_warps.py:110: UserWarning: Anti-aliasing will be enabled by default in skimage 0.15 to avoid aliasing artifacts when down-sampling images.\n",
            "  warn(\"Anti-aliasing will be enabled by default in skimage 0.15 to \"\n",
            "/usr/local/lib/python3.6/dist-packages/skimage/transform/_warps.py:110: UserWarning: Anti-aliasing will be enabled by default in skimage 0.15 to avoid aliasing artifacts when down-sampling images.\n",
            "  warn(\"Anti-aliasing will be enabled by default in skimage 0.15 to \"\n",
            "/usr/local/lib/python3.6/dist-packages/skimage/transform/_warps.py:110: UserWarning: Anti-aliasing will be enabled by default in skimage 0.15 to avoid aliasing artifacts when down-sampling images.\n",
            "  warn(\"Anti-aliasing will be enabled by default in skimage 0.15 to \"\n",
            "/usr/local/lib/python3.6/dist-packages/skimage/transform/_warps.py:110: UserWarning: Anti-aliasing will be enabled by default in skimage 0.15 to avoid aliasing artifacts when down-sampling images.\n",
            "  warn(\"Anti-aliasing will be enabled by default in skimage 0.15 to \"\n"
          ],
          "name": "stderr"
        },
        {
          "output_type": "stream",
          "text": [
            "| epoch 02 | valid loss 1.400628 | valid accuracy 0105/0325=0.323077 |\n",
            "DETAILED ACCURACY ON THE VALIDATION SET:\n"
          ],
          "name": "stdout"
        },
        {
          "output_type": "stream",
          "text": [
            "/usr/local/lib/python3.6/dist-packages/skimage/transform/_warps.py:110: UserWarning: Anti-aliasing will be enabled by default in skimage 0.15 to avoid aliasing artifacts when down-sampling images.\n",
            "  warn(\"Anti-aliasing will be enabled by default in skimage 0.15 to \"\n",
            "/usr/local/lib/python3.6/dist-packages/skimage/transform/_warps.py:110: UserWarning: Anti-aliasing will be enabled by default in skimage 0.15 to avoid aliasing artifacts when down-sampling images.\n",
            "  warn(\"Anti-aliasing will be enabled by default in skimage 0.15 to \"\n",
            "/usr/local/lib/python3.6/dist-packages/skimage/transform/_warps.py:110: UserWarning: Anti-aliasing will be enabled by default in skimage 0.15 to avoid aliasing artifacts when down-sampling images.\n",
            "  warn(\"Anti-aliasing will be enabled by default in skimage 0.15 to \"\n",
            "/usr/local/lib/python3.6/dist-packages/skimage/transform/_warps.py:110: UserWarning: Anti-aliasing will be enabled by default in skimage 0.15 to avoid aliasing artifacts when down-sampling images.\n",
            "  warn(\"Anti-aliasing will be enabled by default in skimage 0.15 to \"\n"
          ],
          "name": "stderr"
        },
        {
          "output_type": "stream",
          "text": [
            "Accuracy of autre : 00 / 32 = 0.000000\n",
            "Accuracy of gris : 33 / 117 = 0.282051\n",
            "Accuracy of jaune : 72 / 111 = 0.648649\n",
            "Accuracy of rose : 00 / 65 = 0.000000\n",
            "Model got worst :(\n",
            "patience: 4\n"
          ],
          "name": "stdout"
        },
        {
          "output_type": "stream",
          "text": [
            "/usr/local/lib/python3.6/dist-packages/skimage/transform/_warps.py:110: UserWarning: Anti-aliasing will be enabled by default in skimage 0.15 to avoid aliasing artifacts when down-sampling images.\n",
            "  warn(\"Anti-aliasing will be enabled by default in skimage 0.15 to \"\n",
            "/usr/local/lib/python3.6/dist-packages/skimage/transform/_warps.py:110: UserWarning: Anti-aliasing will be enabled by default in skimage 0.15 to avoid aliasing artifacts when down-sampling images.\n",
            "  warn(\"Anti-aliasing will be enabled by default in skimage 0.15 to \"\n",
            "/usr/local/lib/python3.6/dist-packages/skimage/transform/_warps.py:110: UserWarning: Anti-aliasing will be enabled by default in skimage 0.15 to avoid aliasing artifacts when down-sampling images.\n",
            "  warn(\"Anti-aliasing will be enabled by default in skimage 0.15 to \"\n",
            "/usr/local/lib/python3.6/dist-packages/skimage/transform/_warps.py:110: UserWarning: Anti-aliasing will be enabled by default in skimage 0.15 to avoid aliasing artifacts when down-sampling images.\n",
            "  warn(\"Anti-aliasing will be enabled by default in skimage 0.15 to \"\n"
          ],
          "name": "stderr"
        },
        {
          "output_type": "stream",
          "text": [
            "| epoch 03 | batch 001 | loss 1.180505 | acc 13/32=0.406250 |\n",
            "| epoch 03 | batch 011 | loss 1.094198 | acc 12/32=0.375000 |\n",
            "| epoch 03 | batch 021 | loss 1.072116 | acc 15/32=0.468750 |\n",
            "| epoch 03 | batch 031 | loss 1.277230 | acc 14/32=0.437500 |\n",
            "| epoch 03 | batch 041 | loss 1.084616 | acc 15/32=0.468750 |\n",
            "| epoch 03 | batch 051 | loss 1.152564 | acc 15/32=0.468750 |\n",
            "| epoch 03 | batch 061 | loss 1.187614 | acc 17/32=0.531250 |\n",
            "| epoch 03 | batch 071 | loss 0.974184 | acc 20/32=0.625000 |\n",
            "| epoch 03 | batch 081 | loss 1.095919 | acc 17/32=0.531250 |\n",
            "| epoch 03 | train loss 1.095677 | train accuracy 1345/2618=0.513751 |\n",
            "DETAILED ACCURACY ON THE TRAINING SET:\n"
          ],
          "name": "stdout"
        },
        {
          "output_type": "stream",
          "text": [
            "/usr/local/lib/python3.6/dist-packages/skimage/transform/_warps.py:110: UserWarning: Anti-aliasing will be enabled by default in skimage 0.15 to avoid aliasing artifacts when down-sampling images.\n",
            "  warn(\"Anti-aliasing will be enabled by default in skimage 0.15 to \"\n",
            "/usr/local/lib/python3.6/dist-packages/skimage/transform/_warps.py:110: UserWarning: Anti-aliasing will be enabled by default in skimage 0.15 to avoid aliasing artifacts when down-sampling images.\n",
            "  warn(\"Anti-aliasing will be enabled by default in skimage 0.15 to \"\n",
            "/usr/local/lib/python3.6/dist-packages/skimage/transform/_warps.py:110: UserWarning: Anti-aliasing will be enabled by default in skimage 0.15 to avoid aliasing artifacts when down-sampling images.\n",
            "  warn(\"Anti-aliasing will be enabled by default in skimage 0.15 to \"\n",
            "/usr/local/lib/python3.6/dist-packages/skimage/transform/_warps.py:110: UserWarning: Anti-aliasing will be enabled by default in skimage 0.15 to avoid aliasing artifacts when down-sampling images.\n",
            "  warn(\"Anti-aliasing will be enabled by default in skimage 0.15 to \"\n"
          ],
          "name": "stderr"
        },
        {
          "output_type": "stream",
          "text": [
            "Accuracy of autre : 79 / 260 = 0.303846\n",
            "Accuracy of gris : 662 / 938 = 0.705757\n",
            "Accuracy of jaune : 826 / 894 = 0.923937\n",
            "Accuracy of rose : 100 / 526 = 0.190114\n"
          ],
          "name": "stdout"
        },
        {
          "output_type": "stream",
          "text": [
            "/usr/local/lib/python3.6/dist-packages/skimage/transform/_warps.py:110: UserWarning: Anti-aliasing will be enabled by default in skimage 0.15 to avoid aliasing artifacts when down-sampling images.\n",
            "  warn(\"Anti-aliasing will be enabled by default in skimage 0.15 to \"\n",
            "/usr/local/lib/python3.6/dist-packages/skimage/transform/_warps.py:110: UserWarning: Anti-aliasing will be enabled by default in skimage 0.15 to avoid aliasing artifacts when down-sampling images.\n",
            "  warn(\"Anti-aliasing will be enabled by default in skimage 0.15 to \"\n",
            "/usr/local/lib/python3.6/dist-packages/skimage/transform/_warps.py:110: UserWarning: Anti-aliasing will be enabled by default in skimage 0.15 to avoid aliasing artifacts when down-sampling images.\n",
            "  warn(\"Anti-aliasing will be enabled by default in skimage 0.15 to \"\n",
            "/usr/local/lib/python3.6/dist-packages/skimage/transform/_warps.py:110: UserWarning: Anti-aliasing will be enabled by default in skimage 0.15 to avoid aliasing artifacts when down-sampling images.\n",
            "  warn(\"Anti-aliasing will be enabled by default in skimage 0.15 to \"\n"
          ],
          "name": "stderr"
        },
        {
          "output_type": "stream",
          "text": [
            "| epoch 03 | valid loss 1.643820 | valid accuracy 0142/0325=0.436923 |\n",
            "DETAILED ACCURACY ON THE VALIDATION SET:\n"
          ],
          "name": "stdout"
        },
        {
          "output_type": "stream",
          "text": [
            "/usr/local/lib/python3.6/dist-packages/skimage/transform/_warps.py:110: UserWarning: Anti-aliasing will be enabled by default in skimage 0.15 to avoid aliasing artifacts when down-sampling images.\n",
            "  warn(\"Anti-aliasing will be enabled by default in skimage 0.15 to \"\n",
            "/usr/local/lib/python3.6/dist-packages/skimage/transform/_warps.py:110: UserWarning: Anti-aliasing will be enabled by default in skimage 0.15 to avoid aliasing artifacts when down-sampling images.\n",
            "  warn(\"Anti-aliasing will be enabled by default in skimage 0.15 to \"\n",
            "/usr/local/lib/python3.6/dist-packages/skimage/transform/_warps.py:110: UserWarning: Anti-aliasing will be enabled by default in skimage 0.15 to avoid aliasing artifacts when down-sampling images.\n",
            "  warn(\"Anti-aliasing will be enabled by default in skimage 0.15 to \"\n",
            "/usr/local/lib/python3.6/dist-packages/skimage/transform/_warps.py:110: UserWarning: Anti-aliasing will be enabled by default in skimage 0.15 to avoid aliasing artifacts when down-sampling images.\n",
            "  warn(\"Anti-aliasing will be enabled by default in skimage 0.15 to \"\n"
          ],
          "name": "stderr"
        },
        {
          "output_type": "stream",
          "text": [
            "Accuracy of autre : 00 / 32 = 0.000000\n",
            "Accuracy of gris : 58 / 117 = 0.495726\n",
            "Accuracy of jaune : 84 / 111 = 0.756757\n",
            "Accuracy of rose : 00 / 65 = 0.000000\n",
            "Model got worst :(\n",
            "patience: 3\n"
          ],
          "name": "stdout"
        },
        {
          "output_type": "stream",
          "text": [
            "/usr/local/lib/python3.6/dist-packages/skimage/transform/_warps.py:110: UserWarning: Anti-aliasing will be enabled by default in skimage 0.15 to avoid aliasing artifacts when down-sampling images.\n",
            "  warn(\"Anti-aliasing will be enabled by default in skimage 0.15 to \"\n",
            "/usr/local/lib/python3.6/dist-packages/skimage/transform/_warps.py:110: UserWarning: Anti-aliasing will be enabled by default in skimage 0.15 to avoid aliasing artifacts when down-sampling images.\n",
            "  warn(\"Anti-aliasing will be enabled by default in skimage 0.15 to \"\n",
            "/usr/local/lib/python3.6/dist-packages/skimage/transform/_warps.py:110: UserWarning: Anti-aliasing will be enabled by default in skimage 0.15 to avoid aliasing artifacts when down-sampling images.\n",
            "  warn(\"Anti-aliasing will be enabled by default in skimage 0.15 to \"\n",
            "/usr/local/lib/python3.6/dist-packages/skimage/transform/_warps.py:110: UserWarning: Anti-aliasing will be enabled by default in skimage 0.15 to avoid aliasing artifacts when down-sampling images.\n",
            "  warn(\"Anti-aliasing will be enabled by default in skimage 0.15 to \"\n"
          ],
          "name": "stderr"
        },
        {
          "output_type": "stream",
          "text": [
            "| epoch 04 | batch 001 | loss 0.869981 | acc 21/32=0.656250 |\n",
            "| epoch 04 | batch 011 | loss 0.977360 | acc 21/32=0.656250 |\n",
            "| epoch 04 | batch 021 | loss 0.661652 | acc 22/32=0.687500 |\n",
            "| epoch 04 | batch 031 | loss 0.709007 | acc 24/32=0.750000 |\n",
            "| epoch 04 | batch 041 | loss 0.867549 | acc 22/32=0.687500 |\n",
            "| epoch 04 | batch 051 | loss 0.657648 | acc 23/32=0.718750 |\n",
            "| epoch 04 | batch 061 | loss 0.783975 | acc 23/32=0.718750 |\n",
            "| epoch 04 | batch 071 | loss 0.956795 | acc 19/32=0.593750 |\n",
            "| epoch 04 | batch 081 | loss 1.335667 | acc 22/32=0.687500 |\n",
            "| epoch 04 | train loss 0.883750 | train accuracy 1741/2618=0.665011 |\n",
            "DETAILED ACCURACY ON THE TRAINING SET:\n"
          ],
          "name": "stdout"
        },
        {
          "output_type": "stream",
          "text": [
            "/usr/local/lib/python3.6/dist-packages/skimage/transform/_warps.py:110: UserWarning: Anti-aliasing will be enabled by default in skimage 0.15 to avoid aliasing artifacts when down-sampling images.\n",
            "  warn(\"Anti-aliasing will be enabled by default in skimage 0.15 to \"\n",
            "/usr/local/lib/python3.6/dist-packages/skimage/transform/_warps.py:110: UserWarning: Anti-aliasing will be enabled by default in skimage 0.15 to avoid aliasing artifacts when down-sampling images.\n",
            "  warn(\"Anti-aliasing will be enabled by default in skimage 0.15 to \"\n",
            "/usr/local/lib/python3.6/dist-packages/skimage/transform/_warps.py:110: UserWarning: Anti-aliasing will be enabled by default in skimage 0.15 to avoid aliasing artifacts when down-sampling images.\n",
            "  warn(\"Anti-aliasing will be enabled by default in skimage 0.15 to \"\n",
            "/usr/local/lib/python3.6/dist-packages/skimage/transform/_warps.py:110: UserWarning: Anti-aliasing will be enabled by default in skimage 0.15 to avoid aliasing artifacts when down-sampling images.\n",
            "  warn(\"Anti-aliasing will be enabled by default in skimage 0.15 to \"\n"
          ],
          "name": "stderr"
        },
        {
          "output_type": "stream",
          "text": [
            "Accuracy of autre : 108 / 260 = 0.415385\n",
            "Accuracy of gris : 887 / 938 = 0.945629\n",
            "Accuracy of jaune : 587 / 894 = 0.656600\n",
            "Accuracy of rose : 318 / 526 = 0.604563\n"
          ],
          "name": "stdout"
        },
        {
          "output_type": "stream",
          "text": [
            "/usr/local/lib/python3.6/dist-packages/skimage/transform/_warps.py:110: UserWarning: Anti-aliasing will be enabled by default in skimage 0.15 to avoid aliasing artifacts when down-sampling images.\n",
            "  warn(\"Anti-aliasing will be enabled by default in skimage 0.15 to \"\n",
            "/usr/local/lib/python3.6/dist-packages/skimage/transform/_warps.py:110: UserWarning: Anti-aliasing will be enabled by default in skimage 0.15 to avoid aliasing artifacts when down-sampling images.\n",
            "  warn(\"Anti-aliasing will be enabled by default in skimage 0.15 to \"\n",
            "/usr/local/lib/python3.6/dist-packages/skimage/transform/_warps.py:110: UserWarning: Anti-aliasing will be enabled by default in skimage 0.15 to avoid aliasing artifacts when down-sampling images.\n",
            "  warn(\"Anti-aliasing will be enabled by default in skimage 0.15 to \"\n",
            "/usr/local/lib/python3.6/dist-packages/skimage/transform/_warps.py:110: UserWarning: Anti-aliasing will be enabled by default in skimage 0.15 to avoid aliasing artifacts when down-sampling images.\n",
            "  warn(\"Anti-aliasing will be enabled by default in skimage 0.15 to \"\n"
          ],
          "name": "stderr"
        },
        {
          "output_type": "stream",
          "text": [
            "| epoch 04 | valid loss 1.694638 | valid accuracy 0165/0325=0.507692 |\n",
            "DETAILED ACCURACY ON THE VALIDATION SET:\n"
          ],
          "name": "stdout"
        },
        {
          "output_type": "stream",
          "text": [
            "/usr/local/lib/python3.6/dist-packages/skimage/transform/_warps.py:110: UserWarning: Anti-aliasing will be enabled by default in skimage 0.15 to avoid aliasing artifacts when down-sampling images.\n",
            "  warn(\"Anti-aliasing will be enabled by default in skimage 0.15 to \"\n",
            "/usr/local/lib/python3.6/dist-packages/skimage/transform/_warps.py:110: UserWarning: Anti-aliasing will be enabled by default in skimage 0.15 to avoid aliasing artifacts when down-sampling images.\n",
            "  warn(\"Anti-aliasing will be enabled by default in skimage 0.15 to \"\n",
            "/usr/local/lib/python3.6/dist-packages/skimage/transform/_warps.py:110: UserWarning: Anti-aliasing will be enabled by default in skimage 0.15 to avoid aliasing artifacts when down-sampling images.\n",
            "  warn(\"Anti-aliasing will be enabled by default in skimage 0.15 to \"\n",
            "/usr/local/lib/python3.6/dist-packages/skimage/transform/_warps.py:110: UserWarning: Anti-aliasing will be enabled by default in skimage 0.15 to avoid aliasing artifacts when down-sampling images.\n",
            "  warn(\"Anti-aliasing will be enabled by default in skimage 0.15 to \"\n"
          ],
          "name": "stderr"
        },
        {
          "output_type": "stream",
          "text": [
            "Accuracy of autre : 00 / 32 = 0.000000\n",
            "Accuracy of gris : 106 / 117 = 0.905983\n",
            "Accuracy of jaune : 45 / 111 = 0.405405\n",
            "Accuracy of rose : 14 / 65 = 0.215385\n",
            "Model got worst :(\n",
            "patience: 2\n"
          ],
          "name": "stdout"
        },
        {
          "output_type": "stream",
          "text": [
            "/usr/local/lib/python3.6/dist-packages/skimage/transform/_warps.py:110: UserWarning: Anti-aliasing will be enabled by default in skimage 0.15 to avoid aliasing artifacts when down-sampling images.\n",
            "  warn(\"Anti-aliasing will be enabled by default in skimage 0.15 to \"\n",
            "/usr/local/lib/python3.6/dist-packages/skimage/transform/_warps.py:110: UserWarning: Anti-aliasing will be enabled by default in skimage 0.15 to avoid aliasing artifacts when down-sampling images.\n",
            "  warn(\"Anti-aliasing will be enabled by default in skimage 0.15 to \"\n",
            "/usr/local/lib/python3.6/dist-packages/skimage/transform/_warps.py:110: UserWarning: Anti-aliasing will be enabled by default in skimage 0.15 to avoid aliasing artifacts when down-sampling images.\n",
            "  warn(\"Anti-aliasing will be enabled by default in skimage 0.15 to \"\n",
            "/usr/local/lib/python3.6/dist-packages/skimage/transform/_warps.py:110: UserWarning: Anti-aliasing will be enabled by default in skimage 0.15 to avoid aliasing artifacts when down-sampling images.\n",
            "  warn(\"Anti-aliasing will be enabled by default in skimage 0.15 to \"\n"
          ],
          "name": "stderr"
        },
        {
          "output_type": "stream",
          "text": [
            "| epoch 05 | batch 001 | loss 0.742720 | acc 22/32=0.687500 |\n",
            "| epoch 05 | batch 011 | loss 0.821561 | acc 21/32=0.656250 |\n",
            "| epoch 05 | batch 021 | loss 0.884011 | acc 26/32=0.812500 |\n",
            "| epoch 05 | batch 031 | loss 0.661416 | acc 25/32=0.781250 |\n"
          ],
          "name": "stdout"
        }
      ]
    },
    {
      "cell_type": "code",
      "metadata": {
        "id": "zUicnDGop6eC",
        "colab_type": "code",
        "outputId": "dbf884ce-841d-456b-cc70-0c161ec8e04f",
        "colab": {
          "base_uri": "https://localhost:8080/",
          "height": 85
        }
      },
      "source": [
        "\n",
        "###############################\n",
        "# OLD VERSION OF CHECK_DETAILED_ACCURACY\n",
        "###############################\n",
        "\n",
        "def check_detailed_accuracy(data_loader):\n",
        "    class_correct = list(0. for i in range(num_targets))\n",
        "    class_total = list(0. for i in range(num_targets))\n",
        "    with torch.no_grad():\n",
        "        for i, sampled_batch in enumerate(data_loader):\n",
        "              images = sampled_batch['image']\n",
        "              labels = sampled_batch['labels']\n",
        "              target = labels[:, column_id].long()\n",
        "\n",
        "              #  USE GPU FOR MODEL  #\n",
        "              if torch.cuda.is_available():\n",
        "                images = images.cuda()\n",
        "                target = target.cuda()\n",
        "\n",
        "              outputs, _ = model(images)\n",
        "              _, predicted = torch.max(outputs.data, 1)\n",
        "\n",
        "              correct = (predicted == target).squeeze()  # TODO: check if we need that?\n",
        "\n",
        "              # if correct.shape[0] > 1:\n",
        "              for i in range(len(correct)):\n",
        "                  class_correct[target[i].item()] += correct[i].item()\n",
        "                  class_total[target[i].item()] += 1\n",
        "\n",
        "    for i in range(num_targets):\n",
        "        if class_total[i] == 0:\n",
        "            print(\"No datapoints for this category:\", idx_to_str[i])\n",
        "        else:\n",
        "            print('Accuracy of %s : %.2d / %.2d = %.6f' % (idx_to_str[i], class_correct[i], class_total[i], class_correct[i]/class_total[i]))\n"
      ],
      "execution_count": 0,
      "outputs": [
        {
          "output_type": "stream",
          "text": [
            "No datapoints for this category: autre\n",
            "No datapoints for this category: gris\n",
            "Accuracy of jaune : 30 %\n",
            "No datapoints for this category: rose\n"
          ],
          "name": "stdout"
        }
      ]
    },
    {
      "cell_type": "code",
      "metadata": {
        "id": "49zlbG-RUkq5",
        "colab_type": "code",
        "colab": {}
      },
      "source": [
        ""
      ],
      "execution_count": 0,
      "outputs": []
    }
  ]
}